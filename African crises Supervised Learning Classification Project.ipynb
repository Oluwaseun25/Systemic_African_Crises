{
 "cells": [
  {
   "cell_type": "markdown",
   "id": "ba9460dc-fd2e-4ac3-b694-9d114677b275",
   "metadata": {},
   "source": [
    "### Problem Statement\n",
    "we are going to work on the 'Systemic Crisis, Banking Crisis, inflation Crisis In Africa' dataset that was provided by Kaggle.\n",
    "The ML model objective is to predict the likelihood of a Systemic crisis emergence given a set of indicators like the annual inflation rates."
   ]
  },
  {
   "cell_type": "code",
   "execution_count": 1,
   "id": "b03028c0-81cc-4f23-be80-a6826b59e2a4",
   "metadata": {},
   "outputs": [],
   "source": [
    "# import all necessary libraries\n",
    "import numpy as np\n",
    "import pandas as pd\n",
    "\n",
    "# for visuals\n",
    "import matplotlib.pyplot as plt\n",
    "import seaborn as sns\n",
    "import plotly.express as px\n",
    "import plotly.graph_objs as go\n",
    "from sklearn.preprocessing import LabelEncoder\n",
    "\n",
    "# ggplot style sheet\n",
    "plt.style.use('ggplot')\n",
    "\n",
    "import warnings\n",
    "warnings.filterwarnings('ignore')"
   ]
  },
  {
   "cell_type": "code",
   "execution_count": 2,
   "id": "938bb785-cdd4-4026-bee2-1f0cc4cb60f5",
   "metadata": {},
   "outputs": [
    {
     "data": {
      "text/html": [
       "<div>\n",
       "<style scoped>\n",
       "    .dataframe tbody tr th:only-of-type {\n",
       "        vertical-align: middle;\n",
       "    }\n",
       "\n",
       "    .dataframe tbody tr th {\n",
       "        vertical-align: top;\n",
       "    }\n",
       "\n",
       "    .dataframe thead th {\n",
       "        text-align: right;\n",
       "    }\n",
       "</style>\n",
       "<table border=\"1\" class=\"dataframe\">\n",
       "  <thead>\n",
       "    <tr style=\"text-align: right;\">\n",
       "      <th></th>\n",
       "      <th>country_number</th>\n",
       "      <th>country_code</th>\n",
       "      <th>country</th>\n",
       "      <th>year</th>\n",
       "      <th>systemic_crisis</th>\n",
       "      <th>exch_usd</th>\n",
       "      <th>domestic_debt_in_default</th>\n",
       "      <th>sovereign_external_debt_default</th>\n",
       "      <th>gdp_weighted_default</th>\n",
       "      <th>inflation_annual_cpi</th>\n",
       "      <th>independence</th>\n",
       "      <th>currency_crises</th>\n",
       "      <th>inflation_crises</th>\n",
       "      <th>banking_crisis</th>\n",
       "    </tr>\n",
       "  </thead>\n",
       "  <tbody>\n",
       "    <tr>\n",
       "      <th>0</th>\n",
       "      <td>1</td>\n",
       "      <td>DZA</td>\n",
       "      <td>Algeria</td>\n",
       "      <td>1870</td>\n",
       "      <td>1</td>\n",
       "      <td>0.052264</td>\n",
       "      <td>0</td>\n",
       "      <td>0</td>\n",
       "      <td>0.0</td>\n",
       "      <td>3.441456</td>\n",
       "      <td>0</td>\n",
       "      <td>0</td>\n",
       "      <td>0</td>\n",
       "      <td>crisis</td>\n",
       "    </tr>\n",
       "    <tr>\n",
       "      <th>1</th>\n",
       "      <td>1</td>\n",
       "      <td>DZA</td>\n",
       "      <td>Algeria</td>\n",
       "      <td>1871</td>\n",
       "      <td>0</td>\n",
       "      <td>0.052798</td>\n",
       "      <td>0</td>\n",
       "      <td>0</td>\n",
       "      <td>0.0</td>\n",
       "      <td>14.149140</td>\n",
       "      <td>0</td>\n",
       "      <td>0</td>\n",
       "      <td>0</td>\n",
       "      <td>no_crisis</td>\n",
       "    </tr>\n",
       "    <tr>\n",
       "      <th>2</th>\n",
       "      <td>1</td>\n",
       "      <td>DZA</td>\n",
       "      <td>Algeria</td>\n",
       "      <td>1872</td>\n",
       "      <td>0</td>\n",
       "      <td>0.052274</td>\n",
       "      <td>0</td>\n",
       "      <td>0</td>\n",
       "      <td>0.0</td>\n",
       "      <td>-3.718593</td>\n",
       "      <td>0</td>\n",
       "      <td>0</td>\n",
       "      <td>0</td>\n",
       "      <td>no_crisis</td>\n",
       "    </tr>\n",
       "    <tr>\n",
       "      <th>3</th>\n",
       "      <td>1</td>\n",
       "      <td>DZA</td>\n",
       "      <td>Algeria</td>\n",
       "      <td>1873</td>\n",
       "      <td>0</td>\n",
       "      <td>0.051680</td>\n",
       "      <td>0</td>\n",
       "      <td>0</td>\n",
       "      <td>0.0</td>\n",
       "      <td>11.203897</td>\n",
       "      <td>0</td>\n",
       "      <td>0</td>\n",
       "      <td>0</td>\n",
       "      <td>no_crisis</td>\n",
       "    </tr>\n",
       "    <tr>\n",
       "      <th>4</th>\n",
       "      <td>1</td>\n",
       "      <td>DZA</td>\n",
       "      <td>Algeria</td>\n",
       "      <td>1874</td>\n",
       "      <td>0</td>\n",
       "      <td>0.051308</td>\n",
       "      <td>0</td>\n",
       "      <td>0</td>\n",
       "      <td>0.0</td>\n",
       "      <td>-3.848561</td>\n",
       "      <td>0</td>\n",
       "      <td>0</td>\n",
       "      <td>0</td>\n",
       "      <td>no_crisis</td>\n",
       "    </tr>\n",
       "    <tr>\n",
       "      <th>...</th>\n",
       "      <td>...</td>\n",
       "      <td>...</td>\n",
       "      <td>...</td>\n",
       "      <td>...</td>\n",
       "      <td>...</td>\n",
       "      <td>...</td>\n",
       "      <td>...</td>\n",
       "      <td>...</td>\n",
       "      <td>...</td>\n",
       "      <td>...</td>\n",
       "      <td>...</td>\n",
       "      <td>...</td>\n",
       "      <td>...</td>\n",
       "      <td>...</td>\n",
       "    </tr>\n",
       "    <tr>\n",
       "      <th>1054</th>\n",
       "      <td>70</td>\n",
       "      <td>ZWE</td>\n",
       "      <td>Zimbabwe</td>\n",
       "      <td>2009</td>\n",
       "      <td>1</td>\n",
       "      <td>354.800000</td>\n",
       "      <td>1</td>\n",
       "      <td>1</td>\n",
       "      <td>0.0</td>\n",
       "      <td>-7.670000</td>\n",
       "      <td>1</td>\n",
       "      <td>1</td>\n",
       "      <td>0</td>\n",
       "      <td>crisis</td>\n",
       "    </tr>\n",
       "    <tr>\n",
       "      <th>1055</th>\n",
       "      <td>70</td>\n",
       "      <td>ZWE</td>\n",
       "      <td>Zimbabwe</td>\n",
       "      <td>2010</td>\n",
       "      <td>0</td>\n",
       "      <td>378.200000</td>\n",
       "      <td>1</td>\n",
       "      <td>1</td>\n",
       "      <td>0.0</td>\n",
       "      <td>3.217000</td>\n",
       "      <td>1</td>\n",
       "      <td>0</td>\n",
       "      <td>0</td>\n",
       "      <td>no_crisis</td>\n",
       "    </tr>\n",
       "    <tr>\n",
       "      <th>1056</th>\n",
       "      <td>70</td>\n",
       "      <td>ZWE</td>\n",
       "      <td>Zimbabwe</td>\n",
       "      <td>2011</td>\n",
       "      <td>0</td>\n",
       "      <td>361.900000</td>\n",
       "      <td>1</td>\n",
       "      <td>1</td>\n",
       "      <td>0.0</td>\n",
       "      <td>4.920000</td>\n",
       "      <td>1</td>\n",
       "      <td>0</td>\n",
       "      <td>0</td>\n",
       "      <td>no_crisis</td>\n",
       "    </tr>\n",
       "    <tr>\n",
       "      <th>1057</th>\n",
       "      <td>70</td>\n",
       "      <td>ZWE</td>\n",
       "      <td>Zimbabwe</td>\n",
       "      <td>2012</td>\n",
       "      <td>0</td>\n",
       "      <td>361.900000</td>\n",
       "      <td>1</td>\n",
       "      <td>1</td>\n",
       "      <td>0.0</td>\n",
       "      <td>3.720000</td>\n",
       "      <td>1</td>\n",
       "      <td>0</td>\n",
       "      <td>0</td>\n",
       "      <td>no_crisis</td>\n",
       "    </tr>\n",
       "    <tr>\n",
       "      <th>1058</th>\n",
       "      <td>70</td>\n",
       "      <td>ZWE</td>\n",
       "      <td>Zimbabwe</td>\n",
       "      <td>2013</td>\n",
       "      <td>0</td>\n",
       "      <td>361.900000</td>\n",
       "      <td>1</td>\n",
       "      <td>1</td>\n",
       "      <td>0.0</td>\n",
       "      <td>1.632000</td>\n",
       "      <td>1</td>\n",
       "      <td>0</td>\n",
       "      <td>0</td>\n",
       "      <td>no_crisis</td>\n",
       "    </tr>\n",
       "  </tbody>\n",
       "</table>\n",
       "<p>1059 rows × 14 columns</p>\n",
       "</div>"
      ],
      "text/plain": [
       "      country_number country_code   country  year  systemic_crisis  \\\n",
       "0                  1          DZA   Algeria  1870                1   \n",
       "1                  1          DZA   Algeria  1871                0   \n",
       "2                  1          DZA   Algeria  1872                0   \n",
       "3                  1          DZA   Algeria  1873                0   \n",
       "4                  1          DZA   Algeria  1874                0   \n",
       "...              ...          ...       ...   ...              ...   \n",
       "1054              70          ZWE  Zimbabwe  2009                1   \n",
       "1055              70          ZWE  Zimbabwe  2010                0   \n",
       "1056              70          ZWE  Zimbabwe  2011                0   \n",
       "1057              70          ZWE  Zimbabwe  2012                0   \n",
       "1058              70          ZWE  Zimbabwe  2013                0   \n",
       "\n",
       "        exch_usd  domestic_debt_in_default  sovereign_external_debt_default  \\\n",
       "0       0.052264                         0                                0   \n",
       "1       0.052798                         0                                0   \n",
       "2       0.052274                         0                                0   \n",
       "3       0.051680                         0                                0   \n",
       "4       0.051308                         0                                0   \n",
       "...          ...                       ...                              ...   \n",
       "1054  354.800000                         1                                1   \n",
       "1055  378.200000                         1                                1   \n",
       "1056  361.900000                         1                                1   \n",
       "1057  361.900000                         1                                1   \n",
       "1058  361.900000                         1                                1   \n",
       "\n",
       "      gdp_weighted_default  inflation_annual_cpi  independence  \\\n",
       "0                      0.0              3.441456             0   \n",
       "1                      0.0             14.149140             0   \n",
       "2                      0.0             -3.718593             0   \n",
       "3                      0.0             11.203897             0   \n",
       "4                      0.0             -3.848561             0   \n",
       "...                    ...                   ...           ...   \n",
       "1054                   0.0             -7.670000             1   \n",
       "1055                   0.0              3.217000             1   \n",
       "1056                   0.0              4.920000             1   \n",
       "1057                   0.0              3.720000             1   \n",
       "1058                   0.0              1.632000             1   \n",
       "\n",
       "      currency_crises  inflation_crises banking_crisis  \n",
       "0                   0                 0         crisis  \n",
       "1                   0                 0      no_crisis  \n",
       "2                   0                 0      no_crisis  \n",
       "3                   0                 0      no_crisis  \n",
       "4                   0                 0      no_crisis  \n",
       "...               ...               ...            ...  \n",
       "1054                1                 0         crisis  \n",
       "1055                0                 0      no_crisis  \n",
       "1056                0                 0      no_crisis  \n",
       "1057                0                 0      no_crisis  \n",
       "1058                0                 0      no_crisis  \n",
       "\n",
       "[1059 rows x 14 columns]"
      ]
     },
     "execution_count": 2,
     "metadata": {},
     "output_type": "execute_result"
    }
   ],
   "source": [
    "# read and import file\n",
    "df = pd.read_csv(\"African_crises_dataset.csv\")\n",
    "df"
   ]
  },
  {
   "cell_type": "markdown",
   "id": "885b729f-7c5e-4f73-b056-4859f28656df",
   "metadata": {},
   "source": [
    "### Data Inspection"
   ]
  },
  {
   "cell_type": "code",
   "execution_count": 3,
   "id": "c854329d-43d9-4003-9a48-bafd40a4b3f4",
   "metadata": {},
   "outputs": [
    {
     "data": {
      "text/plain": [
       "(1059, 14)"
      ]
     },
     "execution_count": 3,
     "metadata": {},
     "output_type": "execute_result"
    }
   ],
   "source": [
    "# shape of data\n",
    "df.shape"
   ]
  },
  {
   "cell_type": "code",
   "execution_count": 4,
   "id": "1688c52f-c2fb-4258-9e20-e1417727c959",
   "metadata": {},
   "outputs": [
    {
     "name": "stdout",
     "output_type": "stream",
     "text": [
      "<class 'pandas.core.frame.DataFrame'>\n",
      "RangeIndex: 1059 entries, 0 to 1058\n",
      "Data columns (total 14 columns):\n",
      " #   Column                           Non-Null Count  Dtype  \n",
      "---  ------                           --------------  -----  \n",
      " 0   country_number                   1059 non-null   int64  \n",
      " 1   country_code                     1059 non-null   object \n",
      " 2   country                          1059 non-null   object \n",
      " 3   year                             1059 non-null   int64  \n",
      " 4   systemic_crisis                  1059 non-null   int64  \n",
      " 5   exch_usd                         1059 non-null   float64\n",
      " 6   domestic_debt_in_default         1059 non-null   int64  \n",
      " 7   sovereign_external_debt_default  1059 non-null   int64  \n",
      " 8   gdp_weighted_default             1059 non-null   float64\n",
      " 9   inflation_annual_cpi             1059 non-null   float64\n",
      " 10  independence                     1059 non-null   int64  \n",
      " 11  currency_crises                  1059 non-null   int64  \n",
      " 12  inflation_crises                 1059 non-null   int64  \n",
      " 13  banking_crisis                   1059 non-null   object \n",
      "dtypes: float64(3), int64(8), object(3)\n",
      "memory usage: 116.0+ KB\n"
     ]
    }
   ],
   "source": [
    "# info of the data\n",
    "df.info()"
   ]
  },
  {
   "cell_type": "code",
   "execution_count": 5,
   "id": "bce6f630-a722-4557-a8e1-67ca6591b4ad",
   "metadata": {},
   "outputs": [
    {
     "data": {
      "text/plain": [
       "0"
      ]
     },
     "execution_count": 5,
     "metadata": {},
     "output_type": "execute_result"
    }
   ],
   "source": [
    "# check for duplicates\n",
    "df.duplicated().sum()"
   ]
  },
  {
   "cell_type": "code",
   "execution_count": 6,
   "id": "0f78d0c7-410f-4a23-98be-8ef2f00af010",
   "metadata": {},
   "outputs": [
    {
     "data": {
      "text/plain": [
       "country_number                     0\n",
       "country_code                       0\n",
       "country                            0\n",
       "year                               0\n",
       "systemic_crisis                    0\n",
       "exch_usd                           0\n",
       "domestic_debt_in_default           0\n",
       "sovereign_external_debt_default    0\n",
       "gdp_weighted_default               0\n",
       "inflation_annual_cpi               0\n",
       "independence                       0\n",
       "currency_crises                    0\n",
       "inflation_crises                   0\n",
       "banking_crisis                     0\n",
       "dtype: int64"
      ]
     },
     "execution_count": 6,
     "metadata": {},
     "output_type": "execute_result"
    }
   ],
   "source": [
    "# check for missing values\n",
    "df.isnull().sum()"
   ]
  },
  {
   "cell_type": "markdown",
   "id": "a4baea44-4518-4cee-80b2-8e44872bb087",
   "metadata": {},
   "source": [
    "*There are no missing values*"
   ]
  },
  {
   "cell_type": "code",
   "execution_count": 7,
   "id": "1856ed6f-cfb2-47c3-8525-480a9580efb5",
   "metadata": {},
   "outputs": [
    {
     "name": "stdout",
     "output_type": "stream",
     "text": [
      "country_number                       0\n",
      "year                                 0\n",
      "systemic_crisis                      0\n",
      "exch_usd                             0\n",
      "domestic_debt_in_default             0\n",
      "sovereign_external_debt_default      0\n",
      "gdp_weighted_default                 0\n",
      "inflation_annual_cpi               131\n",
      "independence                         0\n",
      "currency_crises                      0\n",
      "inflation_crises                     0\n",
      "dtype: int64\n"
     ]
    }
   ],
   "source": [
    "# extract the numerical columns from the dataset\n",
    "num_vars = df.select_dtypes(include=['int64', 'float64'])\n",
    "\n",
    "# confirm if there are negative for each columns\n",
    "num_vars_negative = (num_vars < 0).sum()\n",
    "\n",
    "print(num_vars_negative)"
   ]
  },
  {
   "cell_type": "markdown",
   "id": "8bf86bda-3ba1-40a0-ba3e-ae8756e7d790",
   "metadata": {},
   "source": [
    "*There are negative values for the inflation_annual_cpi, and since it's not abnormal for it to have negative vales we would work with it.*         "
   ]
  },
  {
   "cell_type": "code",
   "execution_count": 8,
   "id": "2cfb95b8-e5da-4b93-a070-b659cf8d4f88",
   "metadata": {},
   "outputs": [
    {
     "name": "stdout",
     "output_type": "stream",
     "text": [
      "country_number                       0\n",
      "year                                42\n",
      "systemic_crisis                     82\n",
      "exch_usd                           214\n",
      "domestic_debt_in_default            42\n",
      "sovereign_external_debt_default    162\n",
      "gdp_weighted_default                30\n",
      "inflation_annual_cpi               108\n",
      "independence                       237\n",
      "currency_crises                    136\n",
      "inflation_crises                   137\n",
      "dtype: int64\n"
     ]
    },
    {
     "data": {
      "image/png": "[encoded data removed]",
      "text/plain": [
       "<Figure size 1200x600 with 1 Axes>"
      ]
     },
     "metadata": {},
     "output_type": "display_data"
    }
   ],
   "source": [
    "# Extract the numerical columns from the dataset\n",
    "num_vars = df.select_dtypes(include=['int64', 'float64'])\n",
    "\n",
    "# Calculate the number of outliers for each numerical variable\n",
    "outliers_count = ((num_vars < num_vars.quantile(0.25) - 1.5 * (num_vars.quantile(0.75) - num_vars.quantile(0.25))) |\n",
    "                  (num_vars > num_vars.quantile(0.75) + 1.5 * (num_vars.quantile(0.75) - num_vars.quantile(0.25))))\n",
    "outliers_count = outliers_count.sum()\n",
    "\n",
    "# Display the number of outliers in a table\n",
    "print(outliers_count)\n",
    "\n",
    "# Create a boxplot to show the distribution of each numerical variable\n",
    "plt.figure(figsize=(12, 6))\n",
    "sns.boxplot(data=num_vars, palette='viridis')\n",
    "plt.title('Distribution of Numerical Variables')\n",
    "plt.xticks(rotation=45)\n",
    "plt.show()"
   ]
  },
  {
   "cell_type": "code",
   "execution_count": 9,
   "id": "739128a9-c0f4-44c8-a055-c1636c6eed94",
   "metadata": {},
   "outputs": [
    {
     "data": {
      "image/png": "[encoded data removed]",
      "text/plain": [
       "<Figure size 1200x600 with 1 Axes>"
      ]
     },
     "metadata": {},
     "output_type": "display_data"
    }
   ],
   "source": [
    "# Calculate the median of each numerical variable\n",
    "medians = num_vars.median()\n",
    "\n",
    "# Replace outliers with the median of each variable\n",
    "for column in num_vars.columns:\n",
    "    q1 = num_vars[column].quantile(0.25)\n",
    "    q3 = num_vars[column].quantile(0.75)\n",
    "    iqr = q3 - q1\n",
    "    lower_bound = q1 - 1.5 * iqr\n",
    "    upper_bound = q3 + 1.5 * iqr\n",
    "    num_vars[column] = num_vars[column].apply(lambda x: medians[column] if x < lower_bound or x > upper_bound else x)\n",
    "\n",
    "# Create a boxplot to show the distribution of each numerical variable after handling outliers\n",
    "plt.figure(figsize=(12, 6))\n",
    "sns.boxplot(data=num_vars, palette='viridis')\n",
    "plt.title('Distribution of Numerical Variables (Outliers Handled)')\n",
    "plt.xticks(rotation=45)\n",
    "plt.show()\n"
   ]
  },
  {
   "cell_type": "markdown",
   "id": "49cd7551-8c92-43e7-90ff-d902a13d040b",
   "metadata": {},
   "source": [
    "### Data Transformation"
   ]
  },
  {
   "cell_type": "code",
   "execution_count": 10,
   "id": "c6396314-ab74-4462-925f-f9d70d3fd55f",
   "metadata": {},
   "outputs": [
    {
     "data": {
      "text/html": [
       "<div>\n",
       "<style scoped>\n",
       "    .dataframe tbody tr th:only-of-type {\n",
       "        vertical-align: middle;\n",
       "    }\n",
       "\n",
       "    .dataframe tbody tr th {\n",
       "        vertical-align: top;\n",
       "    }\n",
       "\n",
       "    .dataframe thead th {\n",
       "        text-align: right;\n",
       "    }\n",
       "</style>\n",
       "<table border=\"1\" class=\"dataframe\">\n",
       "  <thead>\n",
       "    <tr style=\"text-align: right;\">\n",
       "      <th></th>\n",
       "      <th>country_number</th>\n",
       "      <th>country_code</th>\n",
       "      <th>country</th>\n",
       "      <th>year</th>\n",
       "      <th>systemic_crisis</th>\n",
       "      <th>exch_usd</th>\n",
       "      <th>domestic_debt_in_default</th>\n",
       "      <th>sovereign_external_debt_default</th>\n",
       "      <th>gdp_weighted_default</th>\n",
       "      <th>inflation_annual_cpi</th>\n",
       "      <th>independence</th>\n",
       "      <th>currency_crises</th>\n",
       "      <th>inflation_crises</th>\n",
       "      <th>banking_crisis</th>\n",
       "    </tr>\n",
       "  </thead>\n",
       "  <tbody>\n",
       "    <tr>\n",
       "      <th>0</th>\n",
       "      <td>1</td>\n",
       "      <td>DZA</td>\n",
       "      <td>0</td>\n",
       "      <td>1870</td>\n",
       "      <td>1</td>\n",
       "      <td>0.052264</td>\n",
       "      <td>0</td>\n",
       "      <td>0</td>\n",
       "      <td>0.0</td>\n",
       "      <td>3.441456</td>\n",
       "      <td>0</td>\n",
       "      <td>0</td>\n",
       "      <td>0</td>\n",
       "      <td>0</td>\n",
       "    </tr>\n",
       "    <tr>\n",
       "      <th>1</th>\n",
       "      <td>1</td>\n",
       "      <td>DZA</td>\n",
       "      <td>0</td>\n",
       "      <td>1871</td>\n",
       "      <td>0</td>\n",
       "      <td>0.052798</td>\n",
       "      <td>0</td>\n",
       "      <td>0</td>\n",
       "      <td>0.0</td>\n",
       "      <td>14.149140</td>\n",
       "      <td>0</td>\n",
       "      <td>0</td>\n",
       "      <td>0</td>\n",
       "      <td>1</td>\n",
       "    </tr>\n",
       "    <tr>\n",
       "      <th>2</th>\n",
       "      <td>1</td>\n",
       "      <td>DZA</td>\n",
       "      <td>0</td>\n",
       "      <td>1872</td>\n",
       "      <td>0</td>\n",
       "      <td>0.052274</td>\n",
       "      <td>0</td>\n",
       "      <td>0</td>\n",
       "      <td>0.0</td>\n",
       "      <td>-3.718593</td>\n",
       "      <td>0</td>\n",
       "      <td>0</td>\n",
       "      <td>0</td>\n",
       "      <td>1</td>\n",
       "    </tr>\n",
       "    <tr>\n",
       "      <th>3</th>\n",
       "      <td>1</td>\n",
       "      <td>DZA</td>\n",
       "      <td>0</td>\n",
       "      <td>1873</td>\n",
       "      <td>0</td>\n",
       "      <td>0.051680</td>\n",
       "      <td>0</td>\n",
       "      <td>0</td>\n",
       "      <td>0.0</td>\n",
       "      <td>11.203897</td>\n",
       "      <td>0</td>\n",
       "      <td>0</td>\n",
       "      <td>0</td>\n",
       "      <td>1</td>\n",
       "    </tr>\n",
       "    <tr>\n",
       "      <th>4</th>\n",
       "      <td>1</td>\n",
       "      <td>DZA</td>\n",
       "      <td>0</td>\n",
       "      <td>1874</td>\n",
       "      <td>0</td>\n",
       "      <td>0.051308</td>\n",
       "      <td>0</td>\n",
       "      <td>0</td>\n",
       "      <td>0.0</td>\n",
       "      <td>-3.848561</td>\n",
       "      <td>0</td>\n",
       "      <td>0</td>\n",
       "      <td>0</td>\n",
       "      <td>1</td>\n",
       "    </tr>\n",
       "    <tr>\n",
       "      <th>...</th>\n",
       "      <td>...</td>\n",
       "      <td>...</td>\n",
       "      <td>...</td>\n",
       "      <td>...</td>\n",
       "      <td>...</td>\n",
       "      <td>...</td>\n",
       "      <td>...</td>\n",
       "      <td>...</td>\n",
       "      <td>...</td>\n",
       "      <td>...</td>\n",
       "      <td>...</td>\n",
       "      <td>...</td>\n",
       "      <td>...</td>\n",
       "      <td>...</td>\n",
       "    </tr>\n",
       "    <tr>\n",
       "      <th>1054</th>\n",
       "      <td>70</td>\n",
       "      <td>ZWE</td>\n",
       "      <td>12</td>\n",
       "      <td>2009</td>\n",
       "      <td>1</td>\n",
       "      <td>354.800000</td>\n",
       "      <td>1</td>\n",
       "      <td>1</td>\n",
       "      <td>0.0</td>\n",
       "      <td>-7.670000</td>\n",
       "      <td>1</td>\n",
       "      <td>1</td>\n",
       "      <td>0</td>\n",
       "      <td>0</td>\n",
       "    </tr>\n",
       "    <tr>\n",
       "      <th>1055</th>\n",
       "      <td>70</td>\n",
       "      <td>ZWE</td>\n",
       "      <td>12</td>\n",
       "      <td>2010</td>\n",
       "      <td>0</td>\n",
       "      <td>378.200000</td>\n",
       "      <td>1</td>\n",
       "      <td>1</td>\n",
       "      <td>0.0</td>\n",
       "      <td>3.217000</td>\n",
       "      <td>1</td>\n",
       "      <td>0</td>\n",
       "      <td>0</td>\n",
       "      <td>1</td>\n",
       "    </tr>\n",
       "    <tr>\n",
       "      <th>1056</th>\n",
       "      <td>70</td>\n",
       "      <td>ZWE</td>\n",
       "      <td>12</td>\n",
       "      <td>2011</td>\n",
       "      <td>0</td>\n",
       "      <td>361.900000</td>\n",
       "      <td>1</td>\n",
       "      <td>1</td>\n",
       "      <td>0.0</td>\n",
       "      <td>4.920000</td>\n",
       "      <td>1</td>\n",
       "      <td>0</td>\n",
       "      <td>0</td>\n",
       "      <td>1</td>\n",
       "    </tr>\n",
       "    <tr>\n",
       "      <th>1057</th>\n",
       "      <td>70</td>\n",
       "      <td>ZWE</td>\n",
       "      <td>12</td>\n",
       "      <td>2012</td>\n",
       "      <td>0</td>\n",
       "      <td>361.900000</td>\n",
       "      <td>1</td>\n",
       "      <td>1</td>\n",
       "      <td>0.0</td>\n",
       "      <td>3.720000</td>\n",
       "      <td>1</td>\n",
       "      <td>0</td>\n",
       "      <td>0</td>\n",
       "      <td>1</td>\n",
       "    </tr>\n",
       "    <tr>\n",
       "      <th>1058</th>\n",
       "      <td>70</td>\n",
       "      <td>ZWE</td>\n",
       "      <td>12</td>\n",
       "      <td>2013</td>\n",
       "      <td>0</td>\n",
       "      <td>361.900000</td>\n",
       "      <td>1</td>\n",
       "      <td>1</td>\n",
       "      <td>0.0</td>\n",
       "      <td>1.632000</td>\n",
       "      <td>1</td>\n",
       "      <td>0</td>\n",
       "      <td>0</td>\n",
       "      <td>1</td>\n",
       "    </tr>\n",
       "  </tbody>\n",
       "</table>\n",
       "<p>1059 rows × 14 columns</p>\n",
       "</div>"
      ],
      "text/plain": [
       "      country_number country_code  country  year  systemic_crisis    exch_usd  \\\n",
       "0                  1          DZA        0  1870                1    0.052264   \n",
       "1                  1          DZA        0  1871                0    0.052798   \n",
       "2                  1          DZA        0  1872                0    0.052274   \n",
       "3                  1          DZA        0  1873                0    0.051680   \n",
       "4                  1          DZA        0  1874                0    0.051308   \n",
       "...              ...          ...      ...   ...              ...         ...   \n",
       "1054              70          ZWE       12  2009                1  354.800000   \n",
       "1055              70          ZWE       12  2010                0  378.200000   \n",
       "1056              70          ZWE       12  2011                0  361.900000   \n",
       "1057              70          ZWE       12  2012                0  361.900000   \n",
       "1058              70          ZWE       12  2013                0  361.900000   \n",
       "\n",
       "      domestic_debt_in_default  sovereign_external_debt_default  \\\n",
       "0                            0                                0   \n",
       "1                            0                                0   \n",
       "2                            0                                0   \n",
       "3                            0                                0   \n",
       "4                            0                                0   \n",
       "...                        ...                              ...   \n",
       "1054                         1                                1   \n",
       "1055                         1                                1   \n",
       "1056                         1                                1   \n",
       "1057                         1                                1   \n",
       "1058                         1                                1   \n",
       "\n",
       "      gdp_weighted_default  inflation_annual_cpi  independence  \\\n",
       "0                      0.0              3.441456             0   \n",
       "1                      0.0             14.149140             0   \n",
       "2                      0.0             -3.718593             0   \n",
       "3                      0.0             11.203897             0   \n",
       "4                      0.0             -3.848561             0   \n",
       "...                    ...                   ...           ...   \n",
       "1054                   0.0             -7.670000             1   \n",
       "1055                   0.0              3.217000             1   \n",
       "1056                   0.0              4.920000             1   \n",
       "1057                   0.0              3.720000             1   \n",
       "1058                   0.0              1.632000             1   \n",
       "\n",
       "      currency_crises  inflation_crises  banking_crisis  \n",
       "0                   0                 0               0  \n",
       "1                   0                 0               1  \n",
       "2                   0                 0               1  \n",
       "3                   0                 0               1  \n",
       "4                   0                 0               1  \n",
       "...               ...               ...             ...  \n",
       "1054                1                 0               0  \n",
       "1055                0                 0               1  \n",
       "1056                0                 0               1  \n",
       "1057                0                 0               1  \n",
       "1058                0                 0               1  \n",
       "\n",
       "[1059 rows x 14 columns]"
      ]
     },
     "execution_count": 10,
     "metadata": {},
     "output_type": "execute_result"
    }
   ],
   "source": [
    "# Initialize the LabelEncoder\n",
    "encoder = LabelEncoder()\n",
    "\n",
    "# Apply label encoding to multiple columns\n",
    "for column in ['country', 'banking_crisis']:\n",
    "    df[column] = encoder.fit_transform(df[column])\n",
    "    \n",
    "# Display the result\n",
    "df\n"
   ]
  },
  {
   "cell_type": "code",
   "execution_count": 2,
   "id": "0a7d3777-e14b-4497-ab83-22d09a3cae6c",
   "metadata": {},
   "outputs": [
    {
     "ename": "ModuleNotFoundError",
     "evalue": "No module named 'ydata_profiling'",
     "output_type": "error",
     "traceback": [
      "\u001b[1;31m---------------------------------------------------------------------------\u001b[0m",
      "\u001b[1;31mModuleNotFoundError\u001b[0m                       Traceback (most recent call last)",
      "Cell \u001b[1;32mIn[2], line 1\u001b[0m\n\u001b[1;32m----> 1\u001b[0m \u001b[38;5;28;01mfrom\u001b[39;00m \u001b[38;5;21;01mydata_profiling\u001b[39;00m \u001b[38;5;28;01mimport\u001b[39;00m ProfileReport\n\u001b[0;32m      3\u001b[0m Profile \u001b[38;5;241m=\u001b[39m ProfileReport(df, title \u001b[38;5;241m=\u001b[39m \u001b[38;5;124m\"\u001b[39m\u001b[38;5;124mAfrican_crises\u001b[39m\u001b[38;5;124m\"\u001b[39m)\n\u001b[0;32m      5\u001b[0m Profile\u001b[38;5;241m.\u001b[39mto_notebook_iframe()\n",
      "\u001b[1;31mModuleNotFoundError\u001b[0m: No module named 'ydata_profiling'"
     ]
    }
   ],
   "source": [
    "from ydata_profiling import ProfileReport\n",
    "\n",
    "Profile = ProfileReport(df, title = \"African_crises\")\n",
    "\n",
    "Profile.to_notebook_iframe()"
   ]
  },
  {
   "cell_type": "code",
   "execution_count": 11,
   "id": "a57537a0-c191-4ac0-aed4-aab4b24d48fe",
   "metadata": {},
   "outputs": [
    {
     "data": {
      "image/png": "[encoded data removed]",
      "text/plain": [
       "<Figure size 640x480 with 1 Axes>"
      ]
     },
     "metadata": {},
     "output_type": "display_data"
    }
   ],
   "source": [
    "# Convert the 'systemic_crisis' to 'Yes' and 'No' in a new column 'systemic_crisis_transform'\n",
    "df['systemic_crisis_transform'] = df['systemic_crisis'].map({1: 'Yes', 0: 'No'})\n",
    "\n",
    "# Plot the distribution of 'Yes' and 'No'\n",
    "df['systemic_crisis_transform'].value_counts().plot(kind='bar', color=['green', 'red'])\n",
    "plt.xlabel('systemic_crisis')\n",
    "plt.ylabel('Count')\n",
    "plt.title('Distribution of systemic_crisis_transform')\n",
    "plt.show()"
   ]
  },
  {
   "cell_type": "code",
   "execution_count": 14,
   "id": "b8bb0374-a326-4b55-8c99-cda00565737a",
   "metadata": {},
   "outputs": [
    {
     "data": {
      "text/html": [
       "<div>\n",
       "<style scoped>\n",
       "    .dataframe tbody tr th:only-of-type {\n",
       "        vertical-align: middle;\n",
       "    }\n",
       "\n",
       "    .dataframe tbody tr th {\n",
       "        vertical-align: top;\n",
       "    }\n",
       "\n",
       "    .dataframe thead th {\n",
       "        text-align: right;\n",
       "    }\n",
       "</style>\n",
       "<table border=\"1\" class=\"dataframe\">\n",
       "  <thead>\n",
       "    <tr style=\"text-align: right;\">\n",
       "      <th></th>\n",
       "      <th>country_number</th>\n",
       "      <th>country_code</th>\n",
       "      <th>country</th>\n",
       "      <th>year</th>\n",
       "      <th>systemic_crisis</th>\n",
       "      <th>exch_usd</th>\n",
       "      <th>domestic_debt_in_default</th>\n",
       "      <th>sovereign_external_debt_default</th>\n",
       "      <th>gdp_weighted_default</th>\n",
       "      <th>inflation_annual_cpi</th>\n",
       "      <th>independence</th>\n",
       "      <th>currency_crises</th>\n",
       "      <th>inflation_crises</th>\n",
       "      <th>banking_crisis</th>\n",
       "      <th>systemic_crisis_transform</th>\n",
       "    </tr>\n",
       "  </thead>\n",
       "  <tbody>\n",
       "    <tr>\n",
       "      <th>0</th>\n",
       "      <td>1</td>\n",
       "      <td>DZA</td>\n",
       "      <td>0</td>\n",
       "      <td>1870</td>\n",
       "      <td>1</td>\n",
       "      <td>0.052264</td>\n",
       "      <td>0</td>\n",
       "      <td>0</td>\n",
       "      <td>0.0</td>\n",
       "      <td>3.441456</td>\n",
       "      <td>0</td>\n",
       "      <td>0</td>\n",
       "      <td>0</td>\n",
       "      <td>0</td>\n",
       "      <td>Yes</td>\n",
       "    </tr>\n",
       "    <tr>\n",
       "      <th>1</th>\n",
       "      <td>1</td>\n",
       "      <td>DZA</td>\n",
       "      <td>0</td>\n",
       "      <td>1871</td>\n",
       "      <td>0</td>\n",
       "      <td>0.052798</td>\n",
       "      <td>0</td>\n",
       "      <td>0</td>\n",
       "      <td>0.0</td>\n",
       "      <td>14.149140</td>\n",
       "      <td>0</td>\n",
       "      <td>0</td>\n",
       "      <td>0</td>\n",
       "      <td>1</td>\n",
       "      <td>No</td>\n",
       "    </tr>\n",
       "    <tr>\n",
       "      <th>2</th>\n",
       "      <td>1</td>\n",
       "      <td>DZA</td>\n",
       "      <td>0</td>\n",
       "      <td>1872</td>\n",
       "      <td>0</td>\n",
       "      <td>0.052274</td>\n",
       "      <td>0</td>\n",
       "      <td>0</td>\n",
       "      <td>0.0</td>\n",
       "      <td>-3.718593</td>\n",
       "      <td>0</td>\n",
       "      <td>0</td>\n",
       "      <td>0</td>\n",
       "      <td>1</td>\n",
       "      <td>No</td>\n",
       "    </tr>\n",
       "    <tr>\n",
       "      <th>3</th>\n",
       "      <td>1</td>\n",
       "      <td>DZA</td>\n",
       "      <td>0</td>\n",
       "      <td>1873</td>\n",
       "      <td>0</td>\n",
       "      <td>0.051680</td>\n",
       "      <td>0</td>\n",
       "      <td>0</td>\n",
       "      <td>0.0</td>\n",
       "      <td>11.203897</td>\n",
       "      <td>0</td>\n",
       "      <td>0</td>\n",
       "      <td>0</td>\n",
       "      <td>1</td>\n",
       "      <td>No</td>\n",
       "    </tr>\n",
       "    <tr>\n",
       "      <th>4</th>\n",
       "      <td>1</td>\n",
       "      <td>DZA</td>\n",
       "      <td>0</td>\n",
       "      <td>1874</td>\n",
       "      <td>0</td>\n",
       "      <td>0.051308</td>\n",
       "      <td>0</td>\n",
       "      <td>0</td>\n",
       "      <td>0.0</td>\n",
       "      <td>-3.848561</td>\n",
       "      <td>0</td>\n",
       "      <td>0</td>\n",
       "      <td>0</td>\n",
       "      <td>1</td>\n",
       "      <td>No</td>\n",
       "    </tr>\n",
       "    <tr>\n",
       "      <th>...</th>\n",
       "      <td>...</td>\n",
       "      <td>...</td>\n",
       "      <td>...</td>\n",
       "      <td>...</td>\n",
       "      <td>...</td>\n",
       "      <td>...</td>\n",
       "      <td>...</td>\n",
       "      <td>...</td>\n",
       "      <td>...</td>\n",
       "      <td>...</td>\n",
       "      <td>...</td>\n",
       "      <td>...</td>\n",
       "      <td>...</td>\n",
       "      <td>...</td>\n",
       "      <td>...</td>\n",
       "    </tr>\n",
       "    <tr>\n",
       "      <th>1054</th>\n",
       "      <td>70</td>\n",
       "      <td>ZWE</td>\n",
       "      <td>12</td>\n",
       "      <td>2009</td>\n",
       "      <td>1</td>\n",
       "      <td>354.800000</td>\n",
       "      <td>1</td>\n",
       "      <td>1</td>\n",
       "      <td>0.0</td>\n",
       "      <td>-7.670000</td>\n",
       "      <td>1</td>\n",
       "      <td>1</td>\n",
       "      <td>0</td>\n",
       "      <td>0</td>\n",
       "      <td>Yes</td>\n",
       "    </tr>\n",
       "    <tr>\n",
       "      <th>1055</th>\n",
       "      <td>70</td>\n",
       "      <td>ZWE</td>\n",
       "      <td>12</td>\n",
       "      <td>2010</td>\n",
       "      <td>0</td>\n",
       "      <td>378.200000</td>\n",
       "      <td>1</td>\n",
       "      <td>1</td>\n",
       "      <td>0.0</td>\n",
       "      <td>3.217000</td>\n",
       "      <td>1</td>\n",
       "      <td>0</td>\n",
       "      <td>0</td>\n",
       "      <td>1</td>\n",
       "      <td>No</td>\n",
       "    </tr>\n",
       "    <tr>\n",
       "      <th>1056</th>\n",
       "      <td>70</td>\n",
       "      <td>ZWE</td>\n",
       "      <td>12</td>\n",
       "      <td>2011</td>\n",
       "      <td>0</td>\n",
       "      <td>361.900000</td>\n",
       "      <td>1</td>\n",
       "      <td>1</td>\n",
       "      <td>0.0</td>\n",
       "      <td>4.920000</td>\n",
       "      <td>1</td>\n",
       "      <td>0</td>\n",
       "      <td>0</td>\n",
       "      <td>1</td>\n",
       "      <td>No</td>\n",
       "    </tr>\n",
       "    <tr>\n",
       "      <th>1057</th>\n",
       "      <td>70</td>\n",
       "      <td>ZWE</td>\n",
       "      <td>12</td>\n",
       "      <td>2012</td>\n",
       "      <td>0</td>\n",
       "      <td>361.900000</td>\n",
       "      <td>1</td>\n",
       "      <td>1</td>\n",
       "      <td>0.0</td>\n",
       "      <td>3.720000</td>\n",
       "      <td>1</td>\n",
       "      <td>0</td>\n",
       "      <td>0</td>\n",
       "      <td>1</td>\n",
       "      <td>No</td>\n",
       "    </tr>\n",
       "    <tr>\n",
       "      <th>1058</th>\n",
       "      <td>70</td>\n",
       "      <td>ZWE</td>\n",
       "      <td>12</td>\n",
       "      <td>2013</td>\n",
       "      <td>0</td>\n",
       "      <td>361.900000</td>\n",
       "      <td>1</td>\n",
       "      <td>1</td>\n",
       "      <td>0.0</td>\n",
       "      <td>1.632000</td>\n",
       "      <td>1</td>\n",
       "      <td>0</td>\n",
       "      <td>0</td>\n",
       "      <td>1</td>\n",
       "      <td>No</td>\n",
       "    </tr>\n",
       "  </tbody>\n",
       "</table>\n",
       "<p>1059 rows × 15 columns</p>\n",
       "</div>"
      ],
      "text/plain": [
       "      country_number country_code  country  year  systemic_crisis    exch_usd  \\\n",
       "0                  1          DZA        0  1870                1    0.052264   \n",
       "1                  1          DZA        0  1871                0    0.052798   \n",
       "2                  1          DZA        0  1872                0    0.052274   \n",
       "3                  1          DZA        0  1873                0    0.051680   \n",
       "4                  1          DZA        0  1874                0    0.051308   \n",
       "...              ...          ...      ...   ...              ...         ...   \n",
       "1054              70          ZWE       12  2009                1  354.800000   \n",
       "1055              70          ZWE       12  2010                0  378.200000   \n",
       "1056              70          ZWE       12  2011                0  361.900000   \n",
       "1057              70          ZWE       12  2012                0  361.900000   \n",
       "1058              70          ZWE       12  2013                0  361.900000   \n",
       "\n",
       "      domestic_debt_in_default  sovereign_external_debt_default  \\\n",
       "0                            0                                0   \n",
       "1                            0                                0   \n",
       "2                            0                                0   \n",
       "3                            0                                0   \n",
       "4                            0                                0   \n",
       "...                        ...                              ...   \n",
       "1054                         1                                1   \n",
       "1055                         1                                1   \n",
       "1056                         1                                1   \n",
       "1057                         1                                1   \n",
       "1058                         1                                1   \n",
       "\n",
       "      gdp_weighted_default  inflation_annual_cpi  independence  \\\n",
       "0                      0.0              3.441456             0   \n",
       "1                      0.0             14.149140             0   \n",
       "2                      0.0             -3.718593             0   \n",
       "3                      0.0             11.203897             0   \n",
       "4                      0.0             -3.848561             0   \n",
       "...                    ...                   ...           ...   \n",
       "1054                   0.0             -7.670000             1   \n",
       "1055                   0.0              3.217000             1   \n",
       "1056                   0.0              4.920000             1   \n",
       "1057                   0.0              3.720000             1   \n",
       "1058                   0.0              1.632000             1   \n",
       "\n",
       "      currency_crises  inflation_crises  banking_crisis  \\\n",
       "0                   0                 0               0   \n",
       "1                   0                 0               1   \n",
       "2                   0                 0               1   \n",
       "3                   0                 0               1   \n",
       "4                   0                 0               1   \n",
       "...               ...               ...             ...   \n",
       "1054                1                 0               0   \n",
       "1055                0                 0               1   \n",
       "1056                0                 0               1   \n",
       "1057                0                 0               1   \n",
       "1058                0                 0               1   \n",
       "\n",
       "     systemic_crisis_transform  \n",
       "0                          Yes  \n",
       "1                           No  \n",
       "2                           No  \n",
       "3                           No  \n",
       "4                           No  \n",
       "...                        ...  \n",
       "1054                       Yes  \n",
       "1055                        No  \n",
       "1056                        No  \n",
       "1057                        No  \n",
       "1058                        No  \n",
       "\n",
       "[1059 rows x 15 columns]"
      ]
     },
     "execution_count": 14,
     "metadata": {},
     "output_type": "execute_result"
    }
   ],
   "source": [
    "df"
   ]
  },
  {
   "cell_type": "markdown",
   "id": "9c007d22-d449-4f98-a4ac-bbfe903b120e",
   "metadata": {},
   "source": [
    "### Multivariate Analysis"
   ]
  },
  {
   "cell_type": "code",
   "execution_count": 1,
   "id": "4f6d433b-fad1-4f9f-9134-f59290995c00",
   "metadata": {},
   "outputs": [
    {
     "ename": "NameError",
     "evalue": "name 'sns' is not defined",
     "output_type": "error",
     "traceback": [
      "\u001b[1;31m---------------------------------------------------------------------------\u001b[0m",
      "\u001b[1;31mNameError\u001b[0m                                 Traceback (most recent call last)",
      "Cell \u001b[1;32mIn[1], line 2\u001b[0m\n\u001b[0;32m      1\u001b[0m \u001b[38;5;66;03m# Create a scatterplot matrix using Seaborn\u001b[39;00m\n\u001b[1;32m----> 2\u001b[0m \u001b[43msns\u001b[49m\u001b[38;5;241m.\u001b[39mpairplot(df\u001b[38;5;241m.\u001b[39mselect_dtypes(include \u001b[38;5;241m=\u001b[39m [\u001b[38;5;124m'\u001b[39m\u001b[38;5;124mint\u001b[39m\u001b[38;5;124m'\u001b[39m, \u001b[38;5;124m'\u001b[39m\u001b[38;5;124mfloat\u001b[39m\u001b[38;5;124m'\u001b[39m]))\n\u001b[0;32m      4\u001b[0m \u001b[38;5;66;03m# Calculate the correlation coefficients\u001b[39;00m\n\u001b[0;32m      5\u001b[0m correlation_matrix \u001b[38;5;241m=\u001b[39m df\u001b[38;5;241m.\u001b[39mselect_dtypes(include \u001b[38;5;241m=\u001b[39m [\u001b[38;5;124m'\u001b[39m\u001b[38;5;124mint\u001b[39m\u001b[38;5;124m'\u001b[39m, \u001b[38;5;124m'\u001b[39m\u001b[38;5;124mfloat\u001b[39m\u001b[38;5;124m'\u001b[39m])\u001b[38;5;241m.\u001b[39mcorr()\n",
      "\u001b[1;31mNameError\u001b[0m: name 'sns' is not defined"
     ]
    }
   ],
   "source": [
    "# Create a scatterplot matrix using Seaborn\n",
    "sns.pairplot(df.select_dtypes(include = ['int', 'float']))\n",
    "\n",
    "# Calculate the correlation coefficients\n",
    "correlation_matrix = df.select_dtypes(include = ['int', 'float']).corr()\n",
    "\n",
    "# Display the correlation matrix\n",
    "plt.figure(figsize=(8, 6))\n",
    "sns.heatmap(correlation_matrix, annot=True, cmap='coolwarm')\n",
    "plt.title('Correlation Coefficients')\n",
    "plt.show()"
   ]
  },
  {
   "cell_type": "markdown",
   "id": "02bb3d81-a901-46a3-ab26-2fdec9467c4c",
   "metadata": {},
   "source": [
    "### Feature Selection"
   ]
  },
  {
   "cell_type": "markdown",
   "id": "76aa14ea-3827-4297-9071-e7bccc442b00",
   "metadata": {},
   "source": [
    "### Drop Unnecessary Columns not Crucial to Objective"
   ]
  },
  {
   "cell_type": "code",
   "execution_count": 29,
   "id": "b1231e81-8337-4cd2-b9da-89bb5ab85e85",
   "metadata": {},
   "outputs": [
    {
     "data": {
      "text/html": [
       "<div>\n",
       "<style scoped>\n",
       "    .dataframe tbody tr th:only-of-type {\n",
       "        vertical-align: middle;\n",
       "    }\n",
       "\n",
       "    .dataframe tbody tr th {\n",
       "        vertical-align: top;\n",
       "    }\n",
       "\n",
       "    .dataframe thead th {\n",
       "        text-align: right;\n",
       "    }\n",
       "</style>\n",
       "<table border=\"1\" class=\"dataframe\">\n",
       "  <thead>\n",
       "    <tr style=\"text-align: right;\">\n",
       "      <th></th>\n",
       "      <th>country</th>\n",
       "      <th>year</th>\n",
       "      <th>systemic_crisis</th>\n",
       "      <th>exch_usd</th>\n",
       "      <th>domestic_debt_in_default</th>\n",
       "      <th>sovereign_external_debt_default</th>\n",
       "      <th>gdp_weighted_default</th>\n",
       "      <th>inflation_annual_cpi</th>\n",
       "      <th>independence</th>\n",
       "      <th>currency_crises</th>\n",
       "      <th>inflation_crises</th>\n",
       "      <th>banking_crisis</th>\n",
       "    </tr>\n",
       "  </thead>\n",
       "  <tbody>\n",
       "    <tr>\n",
       "      <th>0</th>\n",
       "      <td>0</td>\n",
       "      <td>1870</td>\n",
       "      <td>1</td>\n",
       "      <td>0.052264</td>\n",
       "      <td>0</td>\n",
       "      <td>0</td>\n",
       "      <td>0.0</td>\n",
       "      <td>3.441456</td>\n",
       "      <td>0</td>\n",
       "      <td>0</td>\n",
       "      <td>0</td>\n",
       "      <td>0</td>\n",
       "    </tr>\n",
       "    <tr>\n",
       "      <th>1</th>\n",
       "      <td>0</td>\n",
       "      <td>1871</td>\n",
       "      <td>0</td>\n",
       "      <td>0.052798</td>\n",
       "      <td>0</td>\n",
       "      <td>0</td>\n",
       "      <td>0.0</td>\n",
       "      <td>14.149140</td>\n",
       "      <td>0</td>\n",
       "      <td>0</td>\n",
       "      <td>0</td>\n",
       "      <td>1</td>\n",
       "    </tr>\n",
       "    <tr>\n",
       "      <th>2</th>\n",
       "      <td>0</td>\n",
       "      <td>1872</td>\n",
       "      <td>0</td>\n",
       "      <td>0.052274</td>\n",
       "      <td>0</td>\n",
       "      <td>0</td>\n",
       "      <td>0.0</td>\n",
       "      <td>-3.718593</td>\n",
       "      <td>0</td>\n",
       "      <td>0</td>\n",
       "      <td>0</td>\n",
       "      <td>1</td>\n",
       "    </tr>\n",
       "    <tr>\n",
       "      <th>3</th>\n",
       "      <td>0</td>\n",
       "      <td>1873</td>\n",
       "      <td>0</td>\n",
       "      <td>0.051680</td>\n",
       "      <td>0</td>\n",
       "      <td>0</td>\n",
       "      <td>0.0</td>\n",
       "      <td>11.203897</td>\n",
       "      <td>0</td>\n",
       "      <td>0</td>\n",
       "      <td>0</td>\n",
       "      <td>1</td>\n",
       "    </tr>\n",
       "    <tr>\n",
       "      <th>4</th>\n",
       "      <td>0</td>\n",
       "      <td>1874</td>\n",
       "      <td>0</td>\n",
       "      <td>0.051308</td>\n",
       "      <td>0</td>\n",
       "      <td>0</td>\n",
       "      <td>0.0</td>\n",
       "      <td>-3.848561</td>\n",
       "      <td>0</td>\n",
       "      <td>0</td>\n",
       "      <td>0</td>\n",
       "      <td>1</td>\n",
       "    </tr>\n",
       "    <tr>\n",
       "      <th>...</th>\n",
       "      <td>...</td>\n",
       "      <td>...</td>\n",
       "      <td>...</td>\n",
       "      <td>...</td>\n",
       "      <td>...</td>\n",
       "      <td>...</td>\n",
       "      <td>...</td>\n",
       "      <td>...</td>\n",
       "      <td>...</td>\n",
       "      <td>...</td>\n",
       "      <td>...</td>\n",
       "      <td>...</td>\n",
       "    </tr>\n",
       "    <tr>\n",
       "      <th>1054</th>\n",
       "      <td>12</td>\n",
       "      <td>2009</td>\n",
       "      <td>1</td>\n",
       "      <td>354.800000</td>\n",
       "      <td>1</td>\n",
       "      <td>1</td>\n",
       "      <td>0.0</td>\n",
       "      <td>-7.670000</td>\n",
       "      <td>1</td>\n",
       "      <td>1</td>\n",
       "      <td>0</td>\n",
       "      <td>0</td>\n",
       "    </tr>\n",
       "    <tr>\n",
       "      <th>1055</th>\n",
       "      <td>12</td>\n",
       "      <td>2010</td>\n",
       "      <td>0</td>\n",
       "      <td>378.200000</td>\n",
       "      <td>1</td>\n",
       "      <td>1</td>\n",
       "      <td>0.0</td>\n",
       "      <td>3.217000</td>\n",
       "      <td>1</td>\n",
       "      <td>0</td>\n",
       "      <td>0</td>\n",
       "      <td>1</td>\n",
       "    </tr>\n",
       "    <tr>\n",
       "      <th>1056</th>\n",
       "      <td>12</td>\n",
       "      <td>2011</td>\n",
       "      <td>0</td>\n",
       "      <td>361.900000</td>\n",
       "      <td>1</td>\n",
       "      <td>1</td>\n",
       "      <td>0.0</td>\n",
       "      <td>4.920000</td>\n",
       "      <td>1</td>\n",
       "      <td>0</td>\n",
       "      <td>0</td>\n",
       "      <td>1</td>\n",
       "    </tr>\n",
       "    <tr>\n",
       "      <th>1057</th>\n",
       "      <td>12</td>\n",
       "      <td>2012</td>\n",
       "      <td>0</td>\n",
       "      <td>361.900000</td>\n",
       "      <td>1</td>\n",
       "      <td>1</td>\n",
       "      <td>0.0</td>\n",
       "      <td>3.720000</td>\n",
       "      <td>1</td>\n",
       "      <td>0</td>\n",
       "      <td>0</td>\n",
       "      <td>1</td>\n",
       "    </tr>\n",
       "    <tr>\n",
       "      <th>1058</th>\n",
       "      <td>12</td>\n",
       "      <td>2013</td>\n",
       "      <td>0</td>\n",
       "      <td>361.900000</td>\n",
       "      <td>1</td>\n",
       "      <td>1</td>\n",
       "      <td>0.0</td>\n",
       "      <td>1.632000</td>\n",
       "      <td>1</td>\n",
       "      <td>0</td>\n",
       "      <td>0</td>\n",
       "      <td>1</td>\n",
       "    </tr>\n",
       "  </tbody>\n",
       "</table>\n",
       "<p>1059 rows × 12 columns</p>\n",
       "</div>"
      ],
      "text/plain": [
       "      country  year  systemic_crisis    exch_usd  domestic_debt_in_default  \\\n",
       "0           0  1870                1    0.052264                         0   \n",
       "1           0  1871                0    0.052798                         0   \n",
       "2           0  1872                0    0.052274                         0   \n",
       "3           0  1873                0    0.051680                         0   \n",
       "4           0  1874                0    0.051308                         0   \n",
       "...       ...   ...              ...         ...                       ...   \n",
       "1054       12  2009                1  354.800000                         1   \n",
       "1055       12  2010                0  378.200000                         1   \n",
       "1056       12  2011                0  361.900000                         1   \n",
       "1057       12  2012                0  361.900000                         1   \n",
       "1058       12  2013                0  361.900000                         1   \n",
       "\n",
       "      sovereign_external_debt_default  gdp_weighted_default  \\\n",
       "0                                   0                   0.0   \n",
       "1                                   0                   0.0   \n",
       "2                                   0                   0.0   \n",
       "3                                   0                   0.0   \n",
       "4                                   0                   0.0   \n",
       "...                               ...                   ...   \n",
       "1054                                1                   0.0   \n",
       "1055                                1                   0.0   \n",
       "1056                                1                   0.0   \n",
       "1057                                1                   0.0   \n",
       "1058                                1                   0.0   \n",
       "\n",
       "      inflation_annual_cpi  independence  currency_crises  inflation_crises  \\\n",
       "0                 3.441456             0                0                 0   \n",
       "1                14.149140             0                0                 0   \n",
       "2                -3.718593             0                0                 0   \n",
       "3                11.203897             0                0                 0   \n",
       "4                -3.848561             0                0                 0   \n",
       "...                    ...           ...              ...               ...   \n",
       "1054             -7.670000             1                1                 0   \n",
       "1055              3.217000             1                0                 0   \n",
       "1056              4.920000             1                0                 0   \n",
       "1057              3.720000             1                0                 0   \n",
       "1058              1.632000             1                0                 0   \n",
       "\n",
       "      banking_crisis  \n",
       "0                  0  \n",
       "1                  1  \n",
       "2                  1  \n",
       "3                  1  \n",
       "4                  1  \n",
       "...              ...  \n",
       "1054               0  \n",
       "1055               1  \n",
       "1056               1  \n",
       "1057               1  \n",
       "1058               1  \n",
       "\n",
       "[1059 rows x 12 columns]"
      ]
     },
     "execution_count": 29,
     "metadata": {},
     "output_type": "execute_result"
    }
   ],
   "source": [
    "columns_to_drop = ['country_number', 'country_code', 'systemic_crisis_transform']\n",
    "\n",
    "# Option 1: Using the drop() method\n",
    "Used_df = df.drop(columns=columns_to_drop)\n",
    "Used_df"
   ]
  },
  {
   "cell_type": "code",
   "execution_count": 30,
   "id": "01d50dae-aa99-4f7c-9d99-fdb2e6779bb3",
   "metadata": {},
   "outputs": [],
   "source": [
    "# Select the target variable y\n",
    "y = Used_df['systemic_crisis']\n",
    "\n",
    "# Drop the target variable and create the independent variables\n",
    "X = Used_df.drop('systemic_crisis', axis=1)\n"
   ]
  },
  {
   "cell_type": "code",
   "execution_count": 31,
   "id": "f56a24bb-509c-4661-ad72-0259f60b78a7",
   "metadata": {},
   "outputs": [
    {
     "data": {
      "text/html": [
       "<div>\n",
       "<style scoped>\n",
       "    .dataframe tbody tr th:only-of-type {\n",
       "        vertical-align: middle;\n",
       "    }\n",
       "\n",
       "    .dataframe tbody tr th {\n",
       "        vertical-align: top;\n",
       "    }\n",
       "\n",
       "    .dataframe thead th {\n",
       "        text-align: right;\n",
       "    }\n",
       "</style>\n",
       "<table border=\"1\" class=\"dataframe\">\n",
       "  <thead>\n",
       "    <tr style=\"text-align: right;\">\n",
       "      <th></th>\n",
       "      <th>country</th>\n",
       "      <th>year</th>\n",
       "      <th>exch_usd</th>\n",
       "      <th>domestic_debt_in_default</th>\n",
       "      <th>sovereign_external_debt_default</th>\n",
       "      <th>gdp_weighted_default</th>\n",
       "      <th>inflation_annual_cpi</th>\n",
       "      <th>independence</th>\n",
       "      <th>currency_crises</th>\n",
       "      <th>inflation_crises</th>\n",
       "      <th>banking_crisis</th>\n",
       "    </tr>\n",
       "  </thead>\n",
       "  <tbody>\n",
       "    <tr>\n",
       "      <th>0</th>\n",
       "      <td>0</td>\n",
       "      <td>1870</td>\n",
       "      <td>0.052264</td>\n",
       "      <td>0</td>\n",
       "      <td>0</td>\n",
       "      <td>0.0</td>\n",
       "      <td>3.441456</td>\n",
       "      <td>0</td>\n",
       "      <td>0</td>\n",
       "      <td>0</td>\n",
       "      <td>0</td>\n",
       "    </tr>\n",
       "    <tr>\n",
       "      <th>1</th>\n",
       "      <td>0</td>\n",
       "      <td>1871</td>\n",
       "      <td>0.052798</td>\n",
       "      <td>0</td>\n",
       "      <td>0</td>\n",
       "      <td>0.0</td>\n",
       "      <td>14.149140</td>\n",
       "      <td>0</td>\n",
       "      <td>0</td>\n",
       "      <td>0</td>\n",
       "      <td>1</td>\n",
       "    </tr>\n",
       "    <tr>\n",
       "      <th>2</th>\n",
       "      <td>0</td>\n",
       "      <td>1872</td>\n",
       "      <td>0.052274</td>\n",
       "      <td>0</td>\n",
       "      <td>0</td>\n",
       "      <td>0.0</td>\n",
       "      <td>-3.718593</td>\n",
       "      <td>0</td>\n",
       "      <td>0</td>\n",
       "      <td>0</td>\n",
       "      <td>1</td>\n",
       "    </tr>\n",
       "    <tr>\n",
       "      <th>3</th>\n",
       "      <td>0</td>\n",
       "      <td>1873</td>\n",
       "      <td>0.051680</td>\n",
       "      <td>0</td>\n",
       "      <td>0</td>\n",
       "      <td>0.0</td>\n",
       "      <td>11.203897</td>\n",
       "      <td>0</td>\n",
       "      <td>0</td>\n",
       "      <td>0</td>\n",
       "      <td>1</td>\n",
       "    </tr>\n",
       "    <tr>\n",
       "      <th>4</th>\n",
       "      <td>0</td>\n",
       "      <td>1874</td>\n",
       "      <td>0.051308</td>\n",
       "      <td>0</td>\n",
       "      <td>0</td>\n",
       "      <td>0.0</td>\n",
       "      <td>-3.848561</td>\n",
       "      <td>0</td>\n",
       "      <td>0</td>\n",
       "      <td>0</td>\n",
       "      <td>1</td>\n",
       "    </tr>\n",
       "  </tbody>\n",
       "</table>\n",
       "</div>"
      ],
      "text/plain": [
       "   country  year  exch_usd  domestic_debt_in_default  \\\n",
       "0        0  1870  0.052264                         0   \n",
       "1        0  1871  0.052798                         0   \n",
       "2        0  1872  0.052274                         0   \n",
       "3        0  1873  0.051680                         0   \n",
       "4        0  1874  0.051308                         0   \n",
       "\n",
       "   sovereign_external_debt_default  gdp_weighted_default  \\\n",
       "0                                0                   0.0   \n",
       "1                                0                   0.0   \n",
       "2                                0                   0.0   \n",
       "3                                0                   0.0   \n",
       "4                                0                   0.0   \n",
       "\n",
       "   inflation_annual_cpi  independence  currency_crises  inflation_crises  \\\n",
       "0              3.441456             0                0                 0   \n",
       "1             14.149140             0                0                 0   \n",
       "2             -3.718593             0                0                 0   \n",
       "3             11.203897             0                0                 0   \n",
       "4             -3.848561             0                0                 0   \n",
       "\n",
       "   banking_crisis  \n",
       "0               0  \n",
       "1               1  \n",
       "2               1  \n",
       "3               1  \n",
       "4               1  "
      ]
     },
     "execution_count": 31,
     "metadata": {},
     "output_type": "execute_result"
    }
   ],
   "source": [
    "X.head()"
   ]
  },
  {
   "cell_type": "code",
   "execution_count": 27,
   "id": "68fe4790-1461-48bc-9577-f82246d28ced",
   "metadata": {},
   "outputs": [
    {
     "data": {
      "text/plain": [
       "systemic_crisis\n",
       "0    977\n",
       "1     82\n",
       "Name: count, dtype: int64"
      ]
     },
     "execution_count": 27,
     "metadata": {},
     "output_type": "execute_result"
    }
   ],
   "source": [
    "# value count of the target y\n",
    "y.value_counts()"
   ]
  },
  {
   "cell_type": "markdown",
   "id": "3e9ce316-9a1a-4c30-af42-8404244406ab",
   "metadata": {},
   "source": [
    "# Oversampling using SMOTE (Synthetic Minority Over-sampling Technique)"
   ]
  },
  {
   "cell_type": "code",
   "execution_count": 18,
   "id": "c5e0761d-7aa8-4a0c-aadb-42525612df7a",
   "metadata": {},
   "outputs": [
    {
     "name": "stdout",
     "output_type": "stream",
     "text": [
      "Collecting imbalanced-learnNote: you may need to restart the kernel to use updated packages.\n",
      "\n",
      "  Downloading imbalanced_learn-0.12.0-py3-none-any.whl.metadata (8.2 kB)\n",
      "Requirement already satisfied: numpy>=1.17.3 in c:\\users\\user\\anaconda3\\envs\\certisims\\lib\\site-packages (from imbalanced-learn) (1.26.3)\n",
      "Requirement already satisfied: scipy>=1.5.0 in c:\\users\\user\\anaconda3\\envs\\certisims\\lib\\site-packages (from imbalanced-learn) (1.11.4)\n",
      "Requirement already satisfied: scikit-learn>=1.0.2 in c:\\users\\user\\anaconda3\\envs\\certisims\\lib\\site-packages (from imbalanced-learn) (1.3.0)\n",
      "Requirement already satisfied: joblib>=1.1.1 in c:\\users\\user\\anaconda3\\envs\\certisims\\lib\\site-packages (from imbalanced-learn) (1.2.0)\n",
      "Requirement already satisfied: threadpoolctl>=2.0.0 in c:\\users\\user\\anaconda3\\envs\\certisims\\lib\\site-packages (from imbalanced-learn) (2.2.0)\n",
      "Downloading imbalanced_learn-0.12.0-py3-none-any.whl (257 kB)\n",
      "   ---------------------------------------- 0.0/257.7 kB ? eta -:--:--\n",
      "   ---- ----------------------------------- 30.7/257.7 kB ? eta -:--:--\n",
      "   ---- ----------------------------------- 30.7/257.7 kB ? eta -:--:--\n",
      "   ------------- ------------------------- 92.2/257.7 kB 438.1 kB/s eta 0:00:01\n",
      "   ------------- ------------------------- 92.2/257.7 kB 438.1 kB/s eta 0:00:01\n",
      "   ------------- ------------------------- 92.2/257.7 kB 438.1 kB/s eta 0:00:01\n",
      "   ------------- ------------------------- 92.2/257.7 kB 438.1 kB/s eta 0:00:01\n",
      "   ------------- ------------------------- 92.2/257.7 kB 438.1 kB/s eta 0:00:01\n",
      "   ---------------------- --------------- 153.6/257.7 kB 340.5 kB/s eta 0:00:01\n",
      "   ---------------------- --------------- 153.6/257.7 kB 340.5 kB/s eta 0:00:01\n",
      "   ------------------------- ------------ 174.1/257.7 kB 291.5 kB/s eta 0:00:01\n",
      "   ------------------------------ ------- 204.8/257.7 kB 328.1 kB/s eta 0:00:01\n",
      "   -------------------------------------  256.0/257.7 kB 374.6 kB/s eta 0:00:01\n",
      "   -------------------------------------  256.0/257.7 kB 374.6 kB/s eta 0:00:01\n",
      "   -------------------------------------  256.0/257.7 kB 374.6 kB/s eta 0:00:01\n",
      "   -------------------------------------  256.0/257.7 kB 374.6 kB/s eta 0:00:01\n",
      "   -------------------------------------  256.0/257.7 kB 374.6 kB/s eta 0:00:01\n",
      "   -------------------------------------- 257.7/257.7 kB 278.0 kB/s eta 0:00:00\n",
      "Installing collected packages: imbalanced-learn\n",
      "Successfully installed imbalanced-learn-0.12.0\n"
     ]
    }
   ],
   "source": [
    "pip install -U imbalanced-learn"
   ]
  },
  {
   "cell_type": "code",
   "execution_count": 32,
   "id": "d27dd9dd-00ea-4131-a681-b6d9ff5f6798",
   "metadata": {},
   "outputs": [
    {
     "name": "stdout",
     "output_type": "stream",
     "text": [
      "Class distribution before resampling: Counter({0: 977, 1: 82})\n",
      "Class distribution after resampling: Counter({1: 977, 0: 977})\n"
     ]
    }
   ],
   "source": [
    "from imblearn.over_sampling import SMOTE\n",
    "from collections import Counter\n",
    "\n",
    "# Instantiate SMOTE\n",
    "smote = SMOTE(sampling_strategy='auto', random_state=42)\n",
    "\n",
    "# Resampled the data\n",
    "X_resampled, y_resampled = smote.fit_resample(X, y)\n",
    "\n",
    "# Print the class distribution before and after resampling\n",
    "print('Class distribution before resampling: {}'.format(Counter(y)))\n",
    "print('Class distribution after resampling: {}'.format(Counter(y_resampled)))"
   ]
  },
  {
   "cell_type": "markdown",
   "id": "86042654-5fa6-4fc6-a089-13f22a678558",
   "metadata": {},
   "source": [
    "# Train-Test-Split\n",
    "Split the dataset into training and testing sets. We will allocate a certain percentage of 80-20 for training and testing, respectively. This will be done using the train_test_split function from scikit-learn."
   ]
  },
  {
   "cell_type": "code",
   "execution_count": 33,
   "id": "6020877a-848e-4e31-90f4-6b6daa7163e9",
   "metadata": {},
   "outputs": [],
   "source": [
    "from sklearn.model_selection import train_test_split\n",
    "\n",
    "# Split the data into training and testing sets\n",
    "X_train, X_test, y_train, y_test = train_test_split(X_resampled, y_resampled, test_size=0.2, random_state=42)"
   ]
  },
  {
   "cell_type": "markdown",
   "id": "06ad58ea-36fa-4789-b468-6c205f5b2e87",
   "metadata": {},
   "source": [
    "# Scaling of Data"
   ]
  },
  {
   "cell_type": "markdown",
   "id": "f05341cc-685e-4c97-b37c-02208b1eab10",
   "metadata": {},
   "source": [
    "# MinMax Scaler"
   ]
  },
  {
   "cell_type": "code",
   "execution_count": 34,
   "id": "cd60b5ed-6c8e-4e0c-83a8-df8df1aaec5f",
   "metadata": {},
   "outputs": [],
   "source": [
    "from sklearn.preprocessing import MinMaxScaler\n",
    "# Create an instance of MinMaxScaler\n",
    "scaler = MinMaxScaler()\n",
    "\n",
    "# Fit the scaler on the training features\n",
    "scaler.fit(X_train)\n",
    "\n",
    "# Transform the training and test features\n",
    "X_train_scaled = scaler.transform(X_train)\n",
    "X_test_scaled = scaler.transform(X_test)"
   ]
  },
  {
   "cell_type": "markdown",
   "id": "23ed3e50-7aa9-48db-94f6-d015dcda3968",
   "metadata": {},
   "source": [
    "# Model Selection\n",
    "The following algortihms for the model selection include:\n",
    "\n",
    "Logistic Regression\n",
    "\n",
    "Decision Tree\n",
    "\n",
    "Support Vector Machine\n",
    "\n",
    "K-Nearest Neighbor"
   ]
  },
  {
   "cell_type": "code",
   "execution_count": 35,
   "id": "22bf2746-6c18-40f8-825e-ff1640b32370",
   "metadata": {},
   "outputs": [],
   "source": [
    "from sklearn.linear_model import LogisticRegression\n",
    "from sklearn.tree import DecisionTreeClassifier\n",
    "from sklearn.svm import SVC\n",
    "from sklearn.neighbors import KNeighborsClassifier\n",
    "\n",
    "from sklearn.metrics import classification_report, confusion_matrix, roc_auc_score\n",
    "from sklearn import metrics\n",
    "\n",
    "# for hyperparameter tuning using k-fold cross validation\n",
    "from sklearn.model_selection import cross_val_score, cross_val_predict"
   ]
  },
  {
   "cell_type": "markdown",
   "id": "9bcdc64e-ae77-44a8-b7a5-c9b00b0c395b",
   "metadata": {},
   "source": [
    "# Model Training\n",
    "\n",
    "Import the necessary libraries for each algorithms\n",
    "\n",
    "create an instance of each model\n",
    "\n",
    "fit the models to the training data using the fit method"
   ]
  },
  {
   "cell_type": "markdown",
   "id": "b1864d9a-cc43-480a-bd7f-d950bcac595e",
   "metadata": {},
   "source": [
    "# Logistic Regression"
   ]
  },
  {
   "cell_type": "code",
   "execution_count": 36,
   "id": "96a2bf24-0d2a-4350-9d37-ad9efc8865a3",
   "metadata": {},
   "outputs": [],
   "source": [
    "lr_model = LogisticRegression()\n",
    "lr_model.fit(X_train_scaled, y_train)\n",
    "lr_probs = lr_model.predict_proba(X_test_scaled)[:, 1]"
   ]
  },
  {
   "cell_type": "code",
   "execution_count": 37,
   "id": "7d05c09b-7605-4bd9-82c6-32403698340f",
   "metadata": {},
   "outputs": [
    {
     "name": "stdout",
     "output_type": "stream",
     "text": [
      "The accuracy of the logistic regression is 97.2 %\n"
     ]
    }
   ],
   "source": [
    "from sklearn.metrics import accuracy_score\n",
    "# create predictions\n",
    "y_pred = lr_model.predict(X_test_scaled)\n",
    "\n",
    "# print accuracy score for Logistic Regression\n",
    "print(f'The accuracy of the logistic regression is {accuracy_score(y_pred, y_test).round(3)*100} ' + '%')"
   ]
  },
  {
   "cell_type": "code",
   "execution_count": 38,
   "id": "78105886-9c89-4d80-a28c-ea39cd384eaf",
   "metadata": {},
   "outputs": [
    {
     "data": {
      "text/plain": [
       "{'Model': 'lr_model',\n",
       " 'Accuracy': 0.9718670076726342,\n",
       " 'Precision': 0.9842105263157894,\n",
       " 'Recall': 0.958974358974359,\n",
       " 'F1-Score': 0.9714285714285715}"
      ]
     },
     "execution_count": 38,
     "metadata": {},
     "output_type": "execute_result"
    }
   ],
   "source": [
    "from sklearn.metrics import accuracy_score, precision_score, recall_score, f1_score\n",
    "\n",
    "def metrics_calculator(y_true, y_pred, model_name):\n",
    "    '''\n",
    "    Calculates and return a dictionary of performance metrics for a binary classification model\n",
    "    '''\n",
    "    # Calculate performance metrics\n",
    "    accuracy = accuracy_score(y_true, y_pred)\n",
    "    precision = precision_score(y_true, y_pred)\n",
    "    recall = recall_score(y_true, y_pred)\n",
    "    f1 = f1_score(y_true, y_pred)\n",
    "\n",
    "    # Create a dictionary of results\n",
    "    results = {'Model': model_name, 'Accuracy': accuracy, 'Precision': precision, 'Recall': recall, 'F1-Score': f1}\n",
    "    return results\n",
    "\n",
    "lr_result = metrics_calculator(y_test, y_pred, 'lr_model')\n",
    "lr_result"
   ]
  },
  {
   "cell_type": "markdown",
   "id": "ff3cf817-271d-4852-8281-f34870881923",
   "metadata": {},
   "source": [
    "# Decision Tree"
   ]
  },
  {
   "cell_type": "code",
   "execution_count": 39,
   "id": "d2b1fd1a-6dbf-4836-b437-0116a981c8d2",
   "metadata": {},
   "outputs": [],
   "source": [
    "# Create an instance of DecisionTreeClassifier\n",
    "dt_model = DecisionTreeClassifier()\n",
    "\n",
    "# Fit the model on the scaled training\n",
    "dt_model.fit(X_train_scaled, y_train)\n",
    "dt_probs = dt_model.predict_proba(X_test_scaled)[:, 1]"
   ]
  },
  {
   "cell_type": "code",
   "execution_count": 40,
   "id": "eface04a-a02a-4529-97c9-557d06c9480a",
   "metadata": {},
   "outputs": [
    {
     "name": "stdout",
     "output_type": "stream",
     "text": [
      "The accuracy of the DecisionTree is 99.0 %\n"
     ]
    }
   ],
   "source": [
    "# Predict the classes of the testing data\n",
    "y_pred = dt_model.predict(X_test_scaled)\n",
    "\n",
    "# print accuracy score for DecisionTree Classifier\n",
    "print(f'The accuracy of the DecisionTree is {accuracy_score(y_pred, y_test).round(3)*100} ' + '%')"
   ]
  },
  {
   "cell_type": "code",
   "execution_count": 41,
   "id": "be48728b-fe39-40ae-adbf-82cc11585741",
   "metadata": {},
   "outputs": [
    {
     "data": {
      "text/plain": [
       "{'Model': 'dt_model',\n",
       " 'Accuracy': 0.989769820971867,\n",
       " 'Precision': 0.9948186528497409,\n",
       " 'Recall': 0.9846153846153847,\n",
       " 'F1-Score': 0.9896907216494846}"
      ]
     },
     "execution_count": 41,
     "metadata": {},
     "output_type": "execute_result"
    }
   ],
   "source": [
    "dt_result = metrics_calculator(y_test, y_pred, 'dt_model')\n",
    "dt_result"
   ]
  },
  {
   "cell_type": "markdown",
   "id": "cb29b99a-9f46-4229-a89b-0f2ef74e68a9",
   "metadata": {},
   "source": [
    "# Support Vector Machine"
   ]
  },
  {
   "cell_type": "code",
   "execution_count": 42,
   "id": "8a565dfe-ddb4-41f9-b6b9-e05a492ff327",
   "metadata": {},
   "outputs": [],
   "source": [
    "# Create an instance of Support vector machine\n",
    "svm_model = SVC(probability=True)\n",
    "\n",
    "# Fit the model on the scaled training\n",
    "svm_model.fit(X_train_scaled, y_train)\n",
    "svm_probs = svm_model.predict_proba(X_test_scaled)[:, 1]"
   ]
  },
  {
   "cell_type": "code",
   "execution_count": 43,
   "id": "1fd65471-a983-4caf-932e-d6df549bc754",
   "metadata": {},
   "outputs": [
    {
     "name": "stdout",
     "output_type": "stream",
     "text": [
      "The accuracy of the SVM is 97.2 %\n"
     ]
    }
   ],
   "source": [
    "# Predict the classes of the testing data\n",
    "y_pred = svm_model.predict(X_test_scaled)\n",
    "\n",
    "# print accuracy score for SVM\n",
    "print(f'The accuracy of the SVM is {accuracy_score(y_pred, y_test).round(3)*100} ' + '%')"
   ]
  },
  {
   "cell_type": "code",
   "execution_count": 44,
   "id": "2d18450b-9e3a-456e-9f74-a3b2a1bb4113",
   "metadata": {},
   "outputs": [
    {
     "data": {
      "text/plain": [
       "{'Model': 'svm_model',\n",
       " 'Accuracy': 0.9718670076726342,\n",
       " 'Precision': 0.9842105263157894,\n",
       " 'Recall': 0.958974358974359,\n",
       " 'F1-Score': 0.9714285714285715}"
      ]
     },
     "execution_count": 44,
     "metadata": {},
     "output_type": "execute_result"
    }
   ],
   "source": [
    "svm_result = metrics_calculator(y_test, y_pred, 'svm_model')\n",
    "svm_result"
   ]
  },
  {
   "cell_type": "markdown",
   "id": "5a5af43e-2fc6-423c-94c3-f24b517c67cf",
   "metadata": {},
   "source": [
    "# K-Nearest Neighbour"
   ]
  },
  {
   "cell_type": "code",
   "execution_count": 45,
   "id": "6d3aa03b-ac6b-4b66-be5c-f8a6a8e7e621",
   "metadata": {},
   "outputs": [],
   "source": [
    "# Create an instance of K-Nearest Neighbour\n",
    "knn_model = KNeighborsClassifier()\n",
    "\n",
    "# Fit the model on the scaled training\n",
    "knn_model.fit(X_train_scaled, y_train)\n",
    "knn_probs = knn_model.predict_proba(X_test_scaled)[:, 1]"
   ]
  },
  {
   "cell_type": "code",
   "execution_count": 46,
   "id": "e3eaada8-09aa-4a1c-99a5-4745c25d9e1c",
   "metadata": {},
   "outputs": [
    {
     "name": "stdout",
     "output_type": "stream",
     "text": [
      "The accuracy of the KNN is 98.7 %\n"
     ]
    }
   ],
   "source": [
    "# Predict the classes of the testing data\n",
    "y_pred = knn_model.predict(X_test_scaled)\n",
    "\n",
    "# print accuracy score for K-Nearest Neigbour\n",
    "print(f'The accuracy of the KNN is {accuracy_score(y_pred, y_test).round(3)*100} ' + '%')"
   ]
  },
  {
   "cell_type": "code",
   "execution_count": 47,
   "id": "c60a5e26-02dd-4495-a854-7aa772d5b46c",
   "metadata": {},
   "outputs": [
    {
     "data": {
      "text/plain": [
       "{'Model': 'knn_model',\n",
       " 'Accuracy': 0.9872122762148338,\n",
       " 'Precision': 0.9797979797979798,\n",
       " 'Recall': 0.9948717948717949,\n",
       " 'F1-Score': 0.9872773536895675}"
      ]
     },
     "execution_count": 47,
     "metadata": {},
     "output_type": "execute_result"
    }
   ],
   "source": [
    "knn_result = metrics_calculator(y_test, y_pred, 'knn_model')\n",
    "knn_result"
   ]
  },
  {
   "cell_type": "markdown",
   "id": "7362e185-25d1-4c55-a333-2b3c6b0e7462",
   "metadata": {},
   "source": [
    "# Model Evaluation\n",
    "Evaluate the models using classification reports and confusion matrices."
   ]
  },
  {
   "cell_type": "code",
   "execution_count": 49,
   "id": "bf7fa5c7-9310-4a54-b992-dd149a641ea8",
   "metadata": {},
   "outputs": [
    {
     "name": "stdout",
     "output_type": "stream",
     "text": [
      "Logistic Regression Classification Report:\n",
      "                    precision    recall  f1-score   support\n",
      "\n",
      "No-systemic_crisis      0.960     0.985     0.972       196\n",
      "   systemic_crisis      0.984     0.959     0.971       195\n",
      "\n",
      "          accuracy                          0.972       391\n",
      "         macro avg      0.972     0.972     0.972       391\n",
      "      weighted avg      0.972     0.972     0.972       391\n",
      "\n"
     ]
    },
    {
     "data": {
      "image/png": "[encoded data removed]",
      "text/plain": [
       "<Figure size 600x400 with 2 Axes>"
      ]
     },
     "metadata": {},
     "output_type": "display_data"
    },
    {
     "name": "stdout",
     "output_type": "stream",
     "text": [
      "Decision Tree Classification Report:\n",
      "                    precision    recall  f1-score   support\n",
      "\n",
      "No-systemic_crisis      0.985     0.995     0.990       196\n",
      "   systemic_crisis      0.995     0.985     0.990       195\n",
      "\n",
      "          accuracy                          0.990       391\n",
      "         macro avg      0.990     0.990     0.990       391\n",
      "      weighted avg      0.990     0.990     0.990       391\n",
      "\n"
     ]
    },
    {
     "data": {
      "image/png": "[encoded data removed]",
      "text/plain": [
       "<Figure size 600x400 with 2 Axes>"
      ]
     },
     "metadata": {},
     "output_type": "display_data"
    },
    {
     "name": "stdout",
     "output_type": "stream",
     "text": [
      "SVM Classification Report:\n",
      "                    precision    recall  f1-score   support\n",
      "\n",
      "No-systemic_crisis      0.960     0.985     0.972       196\n",
      "   systemic_crisis      0.984     0.959     0.971       195\n",
      "\n",
      "          accuracy                          0.972       391\n",
      "         macro avg      0.972     0.972     0.972       391\n",
      "      weighted avg      0.972     0.972     0.972       391\n",
      "\n"
     ]
    },
    {
     "data": {
      "image/png": "[encoded data removed]",
      "text/plain": [
       "<Figure size 600x400 with 2 Axes>"
      ]
     },
     "metadata": {},
     "output_type": "display_data"
    },
    {
     "name": "stdout",
     "output_type": "stream",
     "text": [
      "KNN Classification Report:\n",
      "                    precision    recall  f1-score   support\n",
      "\n",
      "No-systemic_crisis      0.995     0.980     0.987       196\n",
      "   systemic_crisis      0.980     0.995     0.987       195\n",
      "\n",
      "          accuracy                          0.987       391\n",
      "         macro avg      0.987     0.987     0.987       391\n",
      "      weighted avg      0.987     0.987     0.987       391\n",
      "\n"
     ]
    },
    {
     "data": {
      "image/png": "[encoded data removed]",
      "text/plain": [
       "<Figure size 600x400 with 2 Axes>"
      ]
     },
     "metadata": {},
     "output_type": "display_data"
    }
   ],
   "source": [
    "from sklearn.metrics import confusion_matrix, classification_report\n",
    "# import seaborn as sns\n",
    "# import matplotlib.pyplot as plt\n",
    "\n",
    "# Create a list of models and their corresponding names\n",
    "models = [lr_model, dt_model, svm_model, knn_model]\n",
    "model_names = ['Logistic Regression', 'Decision Tree', 'SVM', 'KNN']\n",
    "\n",
    "# Set the labels\n",
    "labels = ['No-systemic_crisis', 'systemic_crisis']\n",
    "\n",
    "# Set the desired number of decimal places\n",
    "decimal_places = 3\n",
    "\n",
    "# Loop through each model and generate a classification report and confusion matrix\n",
    "for model, model_name in zip(models, model_names):\n",
    "    # Predict the classes of the testing data\n",
    "    y_pred = model.predict(X_test_scaled)\n",
    "    \n",
    "    # Generate the classification report with the specified number of decimal places\n",
    "    report = classification_report(y_test, y_pred, target_names=labels, digits=decimal_places)\n",
    "    print(f'{model_name} Classification Report:\\n{report}')\n",
    "    \n",
    "    # Compute confusion matrix\n",
    "    conf_matrix = confusion_matrix(y_test, y_pred)\n",
    "    \n",
    "    # Plot the confusion matrix as a heatmap\n",
    "    plt.figure(figsize=(6, 4))\n",
    "    sns.heatmap(conf_matrix, annot=True, cmap='viridis', fmt='d', xticklabels=labels, yticklabels=labels)\n",
    "    plt.title(f'{model_name} Confusion Matrix')\n",
    "    plt.xlabel('Predicted Label')\n",
    "    plt.ylabel('True Label')\n",
    "    plt.show()"
   ]
  },
  {
   "cell_type": "code",
   "execution_count": null,
   "id": "e3ab430c-94eb-46f8-863b-f7feceea42cf",
   "metadata": {},
   "outputs": [],
   "source": [
    "# Concatenate results into a single dataframe all the model metric calculator results\n",
    "results_df = pd.DataFrame([lr_result, dt_result, svm_result, knn_result])\n",
    "\n",
    "results_df"
   ]
  },
  {
   "cell_type": "code",
   "execution_count": null,
   "id": "35514385-4f49-4d00-9bcf-59f50f8e7e26",
   "metadata": {},
   "outputs": [],
   "source": [
    "# Set the figure size\n",
    "plt.figure(figsize=(20, 8))\n",
    "\n",
    "# Set the width of the bars\n",
    "bar_width = 0.2\n",
    "\n",
    "# Create a bar chart of the metrics for each model\n",
    "models = results_df['Model']\n",
    "metrics = ['Accuracy', 'Precision', 'Recall', 'F1-Score']\n",
    "colors = ['#1f77b4', '#ff7f0e', '#2ca02c', '#d62728']\n",
    "\n",
    "for i, metric in enumerate(metrics):\n",
    "    plt.bar(np.arange(len(models)) + i * bar_width, results_df[metric], width=bar_width, color=colors[i], label=metric)\n",
    "    for j, value in enumerate(results_df[metric]):\n",
    "        plt.text(j + i * bar_width - 0.05, value + 0.01, '{:.2f}'.format(value))\n",
    "\n",
    "# Add labels and legend\n",
    "plt.xlabel('Model')\n",
    "plt.ylabel('Score')\n",
    "plt.title('Performance Metrics by Model')\n",
    "plt.xticks(np.arange(len(models)) + bar_width / 2, models)\n",
    "plt.legend()\n",
    "\n",
    "# Show the chart\n",
    "plt.show()\n"
   ]
  },
  {
   "cell_type": "markdown",
   "id": "4518c40d-3203-49da-8992-83010b324412",
   "metadata": {},
   "source": [
    "* when predicting the outcome of a  systemic_crisis , where 1 represents systemic_crisis and 0 represent no systemic_crisis, We want to pay attention to precision and recall, as well as the f1-score of the loan defaulted class.\r\n",
    "\r\n",
    "Precision(positive prediction value): It measures the positive predictions made by the model. In this context osystemic_crisised prediction, it represent the percentage of predictesystemic_crisised cases that ar aactuasystemic_crisised. High precision is important because you want to minimize false positives.\r\n",
    "\r\n",
    "Hence, from the confusion of the models, we discover that the Decision Tree 99.580.7% compared to other models, it means that it has correctly identified moresystemic_crisislted(true positives) while minimizing false positive.\r\n",
    "\r\n",
    "Recall(sensitivity): it measures the ability of the model to correctly identified all actual orsystemic_crisisaulted cases. It represent a percentage of of actual orsystemic_crisis ulted that are correctly identified by the model. Thus, for the Decision Tree, it has a reca98.5 of 76% osystemic_crisiseaulted compared to other models.\r\n",
    "\r\n",
    "F1-score: it is the harmonic mean of precision and recall. it provides a balance measure of both precision and recsystemic_crisisn status predicition, we want to generally strike a balance between correctly idensystemic_crisisefaulted cases(recall) and minimizing false positives(precision). Thus, the f1-score help us to evaluate the trade-off between these two  *metrics."
   ]
  },
  {
   "cell_type": "markdown",
   "id": "c82f48d1-d102-4461-9d6b-b82689bf3c39",
   "metadata": {},
   "source": [
    "# Summary\n",
    "The  Decision Tree is the best performing model with an accuracy of 98.9%, precision of 99.5% , a recall of 98.5% and f1-score of 98.9% for the systemic_crisis cases based on the evaluation metrics."
   ]
  },
  {
   "cell_type": "code",
   "execution_count": 50,
   "id": "7c7bb271-6045-464d-adb2-3aa3a50e3909",
   "metadata": {},
   "outputs": [
    {
     "data": {
      "text/html": [
       "<div>\n",
       "<style scoped>\n",
       "    .dataframe tbody tr th:only-of-type {\n",
       "        vertical-align: middle;\n",
       "    }\n",
       "\n",
       "    .dataframe tbody tr th {\n",
       "        vertical-align: top;\n",
       "    }\n",
       "\n",
       "    .dataframe thead th {\n",
       "        text-align: right;\n",
       "    }\n",
       "</style>\n",
       "<table border=\"1\" class=\"dataframe\">\n",
       "  <thead>\n",
       "    <tr style=\"text-align: right;\">\n",
       "      <th></th>\n",
       "      <th>Model</th>\n",
       "      <th>Accuracy</th>\n",
       "      <th>Precision</th>\n",
       "      <th>Recall</th>\n",
       "      <th>F1-Score</th>\n",
       "    </tr>\n",
       "  </thead>\n",
       "  <tbody>\n",
       "    <tr>\n",
       "      <th>0</th>\n",
       "      <td>lr_model</td>\n",
       "      <td>0.971867</td>\n",
       "      <td>0.984211</td>\n",
       "      <td>0.958974</td>\n",
       "      <td>0.971429</td>\n",
       "    </tr>\n",
       "    <tr>\n",
       "      <th>1</th>\n",
       "      <td>dt_model</td>\n",
       "      <td>0.989770</td>\n",
       "      <td>0.994819</td>\n",
       "      <td>0.984615</td>\n",
       "      <td>0.989691</td>\n",
       "    </tr>\n",
       "    <tr>\n",
       "      <th>2</th>\n",
       "      <td>svm_model</td>\n",
       "      <td>0.971867</td>\n",
       "      <td>0.984211</td>\n",
       "      <td>0.958974</td>\n",
       "      <td>0.971429</td>\n",
       "    </tr>\n",
       "    <tr>\n",
       "      <th>3</th>\n",
       "      <td>knn_model</td>\n",
       "      <td>0.987212</td>\n",
       "      <td>0.979798</td>\n",
       "      <td>0.994872</td>\n",
       "      <td>0.987277</td>\n",
       "    </tr>\n",
       "  </tbody>\n",
       "</table>\n",
       "</div>"
      ],
      "text/plain": [
       "       Model  Accuracy  Precision    Recall  F1-Score\n",
       "0   lr_model  0.971867   0.984211  0.958974  0.971429\n",
       "1   dt_model  0.989770   0.994819  0.984615  0.989691\n",
       "2  svm_model  0.971867   0.984211  0.958974  0.971429\n",
       "3  knn_model  0.987212   0.979798  0.994872  0.987277"
      ]
     },
     "execution_count": 50,
     "metadata": {},
     "output_type": "execute_result"
    }
   ],
   "source": [
    "# Concatenate results into a single dataframe all the model metric calculator results\n",
    "results_df = pd.DataFrame([lr_result, dt_result, svm_result, knn_result])\n",
    "\n",
    "results_df"
   ]
  },
  {
   "cell_type": "code",
   "execution_count": 51,
   "id": "142b1056-e4e2-4008-a00a-b0e5250a1a0b",
   "metadata": {},
   "outputs": [
    {
     "data": {
      "image/png": "[encoded data removed]",
      "text/plain": [
       "<Figure size 2000x800 with 1 Axes>"
      ]
     },
     "metadata": {},
     "output_type": "display_data"
    }
   ],
   "source": [
    "# Set the figure size\n",
    "plt.figure(figsize=(20, 8))\n",
    "\n",
    "# Set the width of the bars\n",
    "bar_width = 0.2\n",
    "\n",
    "# Create a bar chart of the metrics for each model\n",
    "models = results_df['Model']\n",
    "metrics = ['Accuracy', 'Precision', 'Recall', 'F1-Score']\n",
    "colors = ['#1f77b4', '#ff7f0e', '#2ca02c', '#d62728']\n",
    "\n",
    "for i, metric in enumerate(metrics):\n",
    "    plt.bar(np.arange(len(models)) + i * bar_width, results_df[metric], width=bar_width, color=colors[i], label=metric)\n",
    "    for j, value in enumerate(results_df[metric]):\n",
    "        plt.text(j + i * bar_width - 0.05, value + 0.01, '{:.2f}'.format(value))\n",
    "\n",
    "# Add labels and legend\n",
    "plt.xlabel('Model')\n",
    "plt.ylabel('Score')\n",
    "plt.title('Performance Metrics by Model')\n",
    "plt.xticks(np.arange(len(models)) + bar_width / 2, models)\n",
    "plt.legend()\n",
    "\n",
    "# Show the chart\n",
    "plt.show()"
   ]
  },
  {
   "cell_type": "markdown",
   "id": "21b6f181-8e97-47d9-b56e-45d64e3dde99",
   "metadata": {},
   "source": [
    "*It is seen that Decision Tree provides the balance measure between correctly identifying systemic_crisis case(recall) with a percentage of 98.5% and minimizing false positive(precision) with a percentage of 99.5%. It has a higher accuracy of 98.9%, for predicting the systemic_crisis.*"
   ]
  },
  {
   "cell_type": "markdown",
   "id": "44610b35-377a-4176-96f0-9cce3f4a8daf",
   "metadata": {},
   "source": [
    "# AUC-ROC\n",
    "The AUC-ROC scores of the models to their accuracy score and confusion matrices can be used to get a complete picture of each model's performance. The AUC-ROC score measures the overall performance of a binary classifier, taking into account bith true positive rate and false positive rate. The higher the AUC-ROC score, the better the model's ability to distinguish between positive and negative classes. Therefore, a model with a higher AUC-ROC score is generally considered to be better than a model with a lower score."
   ]
  },
  {
   "cell_type": "code",
   "execution_count": 52,
   "id": "feed158a-0a1f-4fd2-a4a8-1c47030e1827",
   "metadata": {},
   "outputs": [
    {
     "name": "stdout",
     "output_type": "stream",
     "text": [
      "Logistic Regression AUC-ROC: 0.99\n",
      "Decision Tree AUC-ROC: 0.99\n",
      "Support Vector Machine AUC-ROC: 0.99\n",
      "K-Nearest Neighbor AUC-ROC: 0.99\n"
     ]
    }
   ],
   "source": [
    "# Calculate the AUC-ROC for logistic regression\n",
    "lr_auc = roc_auc_score(y_test, lr_probs)\n",
    "\n",
    "# Calculate the AUC-ROC for decision tree\n",
    "dt_auc = roc_auc_score(y_test, dt_probs)\n",
    "\n",
    "# Calculate the AUC-ROC for svc\n",
    "svm_auc = roc_auc_score(y_test, svm_probs)\n",
    "\n",
    "# Calculate the AUC-ROC for KNN\n",
    "knn_auc = roc_auc_score(y_test, knn_probs)\n",
    "\n",
    "# Print the AUC-ROC scores\n",
    "print(f'Logistic Regression AUC-ROC: {lr_auc:.2f}')\n",
    "print(f'Decision Tree AUC-ROC: {dt_auc:.2f}')\n",
    "print(f'Support Vector Machine AUC-ROC: {svm_auc:.2f}')\n",
    "print(f'K-Nearest Neighbor AUC-ROC: {knn_auc:.2f}')"
   ]
  },
  {
   "cell_type": "markdown",
   "id": "0893e0c9-eba5-4b70-b113-0cbb8ccdb18f",
   "metadata": {},
   "source": [
    "*It is observed that they all have an AUC-ROC score of 99%*"
   ]
  },
  {
   "cell_type": "markdown",
   "id": "098a7982-7dc6-4d6a-a5da-1506da9d8eff",
   "metadata": {},
   "source": [
    "# Feature Engineering\n",
    "After training the best performing model which is Decision Tree model, We will analyze feature importance. For example, we will use Random Forest Classifier model to check feature importance."
   ]
  },
  {
   "cell_type": "markdown",
   "id": "e1211a4d-cb3b-4ca5-b9e7-c27f6c5a2014",
   "metadata": {},
   "source": [
    "Random Forest classifier is often used for feature importances because it has several advantages over other model classifiers in this context.\n",
    "\n",
    "While Random Forest is commonly used for feature importances, other model classifiers such as Gradient Boosting Machines and XGBoost also provide feature importance scores. However, Random Forest remains popular for this purpose due to its ease of use, robustness, and ability to handle a wide range of data characteristics."
   ]
  },
  {
   "cell_type": "code",
   "execution_count": 53,
   "id": "a11fd495-ad23-4136-a9d4-d3d48945b40e",
   "metadata": {},
   "outputs": [
    {
     "name": "stdout",
     "output_type": "stream",
     "text": [
      "banking_crisis: 0.58\n",
      "year: 0.20\n",
      "exch_usd: 0.10\n",
      "country: 0.05\n",
      "independence: 0.02\n",
      "inflation_annual_cpi: 0.02\n",
      "sovereign_external_debt_default: 0.01\n",
      "inflation_crises: 0.01\n",
      "gdp_weighted_default: 0.01\n",
      "currency_crises: 0.00\n",
      "domestic_debt_in_default: 0.00\n"
     ]
    }
   ],
   "source": [
    "# Feature importances using Random Forest\n",
    "from sklearn.ensemble import RandomForestClassifier\n",
    "\n",
    "# Create a Random Forest classifier object\n",
    "rf_classifier = RandomForestClassifier()\n",
    "\n",
    "# Fit the classifier to your training data\n",
    "rf_classifier.fit(X_train_scaled, y_train)\n",
    "\n",
    "# Get feature importances from the trained classifier\n",
    "feature_importances = rf_classifier.feature_importances_\n",
    "\n",
    "# Display feature importances alongside feature names\n",
    "feature_names = X.columns\n",
    "feature_importances_dict = dict(zip(feature_names, feature_importances))\n",
    "sorted_feature_importance = sorted(feature_importances_dict.items(), key=lambda x: x[1], reverse=True)\n",
    "\n",
    "\n",
    "for feature, importance in sorted_feature_importance:\n",
    "    print(f'{feature}: {importance:.2f}')"
   ]
  },
  {
   "cell_type": "code",
   "execution_count": 54,
   "id": "6da735a1-88eb-402e-b835-84ca79706440",
   "metadata": {},
   "outputs": [
    {
     "data": {
      "image/png": "[encoded data removed]",
      "text/plain": [
       "<Figure size 1000x600 with 1 Axes>"
      ]
     },
     "metadata": {},
     "output_type": "display_data"
    }
   ],
   "source": [
    "# Create a DataFrame to store feature names and their importances\n",
    "feature_importance_df = pd.DataFrame({'Feature': feature_names, 'Importance': feature_importances})\n",
    "\n",
    "# Sort features by importance in descending order\n",
    "feature_importance_df = feature_importance_df.sort_values(by='Importance', ascending=False)\n",
    "\n",
    "# Plot the feature importances as a bar chart\n",
    "plt.figure(figsize=(10, 6))\n",
    "ax = sns.barplot(x='Importance', y='Feature', data=feature_importance_df)\n",
    "plt.xlabel('Importance')\n",
    "plt.ylabel('Feature')\n",
    "plt.title('Feature Importance')\n",
    "\n",
    "# Annotate the bars with the importance values\n",
    "for i, v in enumerate(feature_importance_df['Importance']):\n",
    "    ax.text(v, i, f'{v:.2f}', color='black', va='center', fontsize=10, fontweight='bold')\n",
    "\n",
    "plt.show()"
   ]
  },
  {
   "cell_type": "markdown",
   "id": "37fb5b94-f490-46e3-9a08-02447cc84b13",
   "metadata": {},
   "source": [
    "*The feature importances of systemic_crisis prediction using random forest, based on their importance scores from the chart. It shows that banking crisis , followed by Year, exch_usd and Country are the major predictors.*"
   ]
  },
  {
   "cell_type": "markdown",
   "id": "17f27a27-dbb0-4656-89a8-6d0edad88015",
   "metadata": {},
   "source": [
    "# A Bit of Features Selection\n",
    "We will use the following features; banking crisis , followed by Year,exch_usd, Country, and inflation_annual_cpi Term to retrain the Decision Tree model."
   ]
  },
  {
   "cell_type": "code",
   "execution_count": 56,
   "id": "d0c457fd-d59d-42f4-8378-98e128a24d3f",
   "metadata": {},
   "outputs": [],
   "source": [
    "# split into training and validation set using 30-70 split ratio\n",
    "X_train, X_valid, y_train, y_valid = train_test_split(X_resampled, y_resampled, test_size=0.3)\n",
    "\n",
    "X_train2 = X_train[['banking_crisis', 'year', 'exch_usd', 'country', 'inflation_annual_cpi']]\n",
    "X_valid2 = X_valid[['banking_crisis', 'year', 'exch_usd', 'country', 'inflation_annual_cpi']]"
   ]
  },
  {
   "cell_type": "code",
   "execution_count": 57,
   "id": "c66749b1-23ee-48cf-8470-034251c15e1d",
   "metadata": {},
   "outputs": [],
   "source": [
    "# Since Decision Tree model is the best performing model\n",
    "\n",
    "# fit the model on the new training set\n",
    "dt_model.fit(X_train2, y_train)\n",
    "\n",
    "# predit on the new testing set\n",
    "y_valid2_pred = dt_model.predict(X_valid2)"
   ]
  },
  {
   "cell_type": "code",
   "execution_count": 58,
   "id": "e7f6dc46-d824-4e75-add9-e835f13eac2e",
   "metadata": {},
   "outputs": [
    {
     "name": "stdout",
     "output_type": "stream",
     "text": [
      "Accuracy Score: 0.99\n"
     ]
    }
   ],
   "source": [
    "from sklearn.metrics import accuracy_score\n",
    "accuracy = accuracy_score(y_valid2_pred, y_valid)\n",
    "print(f'Accuracy Score: {accuracy:.2f}')"
   ]
  },
  {
   "cell_type": "code",
   "execution_count": 59,
   "id": "79293e8f-c70e-49fe-9ff4-2abb0fa97c4c",
   "metadata": {},
   "outputs": [
    {
     "name": "stdout",
     "output_type": "stream",
     "text": [
      "Accuracy Score: 0.99\n",
      "Precision Score: 0.99\n",
      "Recall Score: 0.99\n",
      "F1-score: 0.99\n"
     ]
    }
   ],
   "source": [
    "from sklearn.metrics import accuracy_score, precision_score, recall_score, f1_score\n",
    "\n",
    "# Calculate accuracy\n",
    "accuracy = accuracy_score(y_valid2_pred, y_valid)\n",
    "print(f'Accuracy Score: {accuracy:.2f}')\n",
    "\n",
    "# Calculate precision\n",
    "precision = precision_score(y_valid2_pred, y_valid)\n",
    "print(f'Precision Score: {precision:.2f}')\n",
    "\n",
    "# Calculate recall\n",
    "recall = recall_score(y_valid2_pred, y_valid)\n",
    "print(f'Recall Score: {recall:.2f}')\n",
    "\n",
    "# Calculate F1-score\n",
    "f1 = f1_score(y_valid2_pred, y_valid)\n",
    "print(f'F1-score: {f1:.2f}')\n"
   ]
  },
  {
   "cell_type": "code",
   "execution_count": null,
   "id": "3037a225-245d-46fe-ae4c-9dfde3c4e5ce",
   "metadata": {},
   "outputs": [],
   "source": []
  }
 ],
 "metadata": {
  "kernelspec": {
   "display_name": "Python 3 (ipykernel)",
   "language": "python",
   "name": "python3"
  },
  "language_info": {
   "codemirror_mode": {
    "name": "ipython",
    "version": 3
   },
   "file_extension": ".py",
   "mimetype": "text/x-python",
   "name": "python",
   "nbconvert_exporter": "python",
   "pygments_lexer": "ipython3",
   "version": "3.10.13"
  }
 },
 "nbformat": 4,
 "nbformat_minor": 5
}
